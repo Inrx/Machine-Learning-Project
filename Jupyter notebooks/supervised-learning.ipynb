{
 "cells": [
  {
   "cell_type": "code",
   "execution_count": 1,
   "metadata": {},
   "outputs": [],
   "source": [
    "import pandas as pd\n",
    "import matplotlib.pyplot as plt\n",
    "import seaborn as sns\n",
    "import numpy as np\n",
    "from sklearn.linear_model import LogisticRegression\n",
    "from sklearn.model_selection import train_test_split\n",
    "from sklearn.model_selection import cross_val_score\n",
    "from sklearn.model_selection import GridSearchCV\n",
    "from sklearn import tree\n",
    "from sklearn.preprocessing import PolynomialFeatures, StandardScaler\n",
    "from sklearn.tree import DecisionTreeClassifier"
   ]
  },
  {
   "cell_type": "code",
   "execution_count": 2,
   "metadata": {},
   "outputs": [],
   "source": [
    "%magic"
   ]
  },
  {
   "cell_type": "code",
   "execution_count": 1,
   "metadata": {
    "scrolled": false
   },
   "outputs": [
    {
     "data": {
      "text/html": [
       "<div>\n",
       "<style scoped>\n",
       "    .dataframe tbody tr th:only-of-type {\n",
       "        vertical-align: middle;\n",
       "    }\n",
       "\n",
       "    .dataframe tbody tr th {\n",
       "        vertical-align: top;\n",
       "    }\n",
       "\n",
       "    .dataframe thead th {\n",
       "        text-align: right;\n",
       "    }\n",
       "</style>\n",
       "<table border=\"1\" class=\"dataframe\">\n",
       "  <thead>\n",
       "    <tr style=\"text-align: right;\">\n",
       "      <th></th>\n",
       "      <th>is_sofw_dev</th>\n",
       "      <th>full_stack_wd</th>\n",
       "      <th>back_end_wd</th>\n",
       "      <th>front_end_wd</th>\n",
       "      <th>mobile_dev</th>\n",
       "      <th>devops</th>\n",
       "      <th>data_sc</th>\n",
       "      <th>qlty_eng</th>\n",
       "      <th>ux_designer</th>\n",
       "      <th>prod_manager</th>\n",
       "      <th>...</th>\n",
       "      <th>age</th>\n",
       "      <th>debt</th>\n",
       "      <th>employment</th>\n",
       "      <th>youtube</th>\n",
       "      <th>online_resources</th>\n",
       "      <th>inperson_events</th>\n",
       "      <th>podcasts</th>\n",
       "      <th>gender_female</th>\n",
       "      <th>gender_male</th>\n",
       "      <th>gender_other</th>\n",
       "    </tr>\n",
       "  </thead>\n",
       "  <tbody>\n",
       "    <tr>\n",
       "      <td>0</td>\n",
       "      <td>0</td>\n",
       "      <td>0</td>\n",
       "      <td>0</td>\n",
       "      <td>0</td>\n",
       "      <td>0</td>\n",
       "      <td>0</td>\n",
       "      <td>1</td>\n",
       "      <td>0</td>\n",
       "      <td>0</td>\n",
       "      <td>0</td>\n",
       "      <td>...</td>\n",
       "      <td>46</td>\n",
       "      <td>0</td>\n",
       "      <td>-1</td>\n",
       "      <td>0</td>\n",
       "      <td>2</td>\n",
       "      <td>1</td>\n",
       "      <td>0</td>\n",
       "      <td>0</td>\n",
       "      <td>1</td>\n",
       "      <td>0</td>\n",
       "    </tr>\n",
       "    <tr>\n",
       "      <td>1</td>\n",
       "      <td>0</td>\n",
       "      <td>1</td>\n",
       "      <td>0</td>\n",
       "      <td>0</td>\n",
       "      <td>0</td>\n",
       "      <td>0</td>\n",
       "      <td>1</td>\n",
       "      <td>0</td>\n",
       "      <td>0</td>\n",
       "      <td>0</td>\n",
       "      <td>...</td>\n",
       "      <td>22</td>\n",
       "      <td>0</td>\n",
       "      <td>0</td>\n",
       "      <td>0</td>\n",
       "      <td>6</td>\n",
       "      <td>0</td>\n",
       "      <td>0</td>\n",
       "      <td>0</td>\n",
       "      <td>1</td>\n",
       "      <td>0</td>\n",
       "    </tr>\n",
       "    <tr>\n",
       "      <td>2</td>\n",
       "      <td>0</td>\n",
       "      <td>0</td>\n",
       "      <td>0</td>\n",
       "      <td>0</td>\n",
       "      <td>0</td>\n",
       "      <td>0</td>\n",
       "      <td>1</td>\n",
       "      <td>0</td>\n",
       "      <td>0</td>\n",
       "      <td>0</td>\n",
       "      <td>...</td>\n",
       "      <td>28</td>\n",
       "      <td>1</td>\n",
       "      <td>1</td>\n",
       "      <td>0</td>\n",
       "      <td>2</td>\n",
       "      <td>0</td>\n",
       "      <td>0</td>\n",
       "      <td>0</td>\n",
       "      <td>1</td>\n",
       "      <td>0</td>\n",
       "    </tr>\n",
       "    <tr>\n",
       "      <td>3</td>\n",
       "      <td>0</td>\n",
       "      <td>0</td>\n",
       "      <td>0</td>\n",
       "      <td>1</td>\n",
       "      <td>0</td>\n",
       "      <td>0</td>\n",
       "      <td>1</td>\n",
       "      <td>0</td>\n",
       "      <td>0</td>\n",
       "      <td>0</td>\n",
       "      <td>...</td>\n",
       "      <td>22</td>\n",
       "      <td>0</td>\n",
       "      <td>1</td>\n",
       "      <td>0</td>\n",
       "      <td>3</td>\n",
       "      <td>0</td>\n",
       "      <td>1</td>\n",
       "      <td>0</td>\n",
       "      <td>1</td>\n",
       "      <td>0</td>\n",
       "    </tr>\n",
       "    <tr>\n",
       "      <td>4</td>\n",
       "      <td>0</td>\n",
       "      <td>0</td>\n",
       "      <td>0</td>\n",
       "      <td>0</td>\n",
       "      <td>0</td>\n",
       "      <td>0</td>\n",
       "      <td>1</td>\n",
       "      <td>0</td>\n",
       "      <td>0</td>\n",
       "      <td>0</td>\n",
       "      <td>...</td>\n",
       "      <td>19</td>\n",
       "      <td>0</td>\n",
       "      <td>1</td>\n",
       "      <td>0</td>\n",
       "      <td>4</td>\n",
       "      <td>1</td>\n",
       "      <td>0</td>\n",
       "      <td>0</td>\n",
       "      <td>1</td>\n",
       "      <td>0</td>\n",
       "    </tr>\n",
       "    <tr>\n",
       "      <td>...</td>\n",
       "      <td>...</td>\n",
       "      <td>...</td>\n",
       "      <td>...</td>\n",
       "      <td>...</td>\n",
       "      <td>...</td>\n",
       "      <td>...</td>\n",
       "      <td>...</td>\n",
       "      <td>...</td>\n",
       "      <td>...</td>\n",
       "      <td>...</td>\n",
       "      <td>...</td>\n",
       "      <td>...</td>\n",
       "      <td>...</td>\n",
       "      <td>...</td>\n",
       "      <td>...</td>\n",
       "      <td>...</td>\n",
       "      <td>...</td>\n",
       "      <td>...</td>\n",
       "      <td>...</td>\n",
       "      <td>...</td>\n",
       "      <td>...</td>\n",
       "    </tr>\n",
       "    <tr>\n",
       "      <td>61086</td>\n",
       "      <td>0</td>\n",
       "      <td>0</td>\n",
       "      <td>0</td>\n",
       "      <td>0</td>\n",
       "      <td>0</td>\n",
       "      <td>0</td>\n",
       "      <td>0</td>\n",
       "      <td>0</td>\n",
       "      <td>0</td>\n",
       "      <td>0</td>\n",
       "      <td>...</td>\n",
       "      <td>22</td>\n",
       "      <td>0</td>\n",
       "      <td>0</td>\n",
       "      <td>0</td>\n",
       "      <td>8</td>\n",
       "      <td>0</td>\n",
       "      <td>0</td>\n",
       "      <td>0</td>\n",
       "      <td>1</td>\n",
       "      <td>0</td>\n",
       "    </tr>\n",
       "    <tr>\n",
       "      <td>61087</td>\n",
       "      <td>1</td>\n",
       "      <td>0</td>\n",
       "      <td>0</td>\n",
       "      <td>0</td>\n",
       "      <td>0</td>\n",
       "      <td>0</td>\n",
       "      <td>0</td>\n",
       "      <td>0</td>\n",
       "      <td>0</td>\n",
       "      <td>0</td>\n",
       "      <td>...</td>\n",
       "      <td>28</td>\n",
       "      <td>0</td>\n",
       "      <td>0</td>\n",
       "      <td>0</td>\n",
       "      <td>2</td>\n",
       "      <td>0</td>\n",
       "      <td>0</td>\n",
       "      <td>0</td>\n",
       "      <td>1</td>\n",
       "      <td>0</td>\n",
       "    </tr>\n",
       "    <tr>\n",
       "      <td>61089</td>\n",
       "      <td>0</td>\n",
       "      <td>0</td>\n",
       "      <td>0</td>\n",
       "      <td>0</td>\n",
       "      <td>0</td>\n",
       "      <td>0</td>\n",
       "      <td>0</td>\n",
       "      <td>0</td>\n",
       "      <td>0</td>\n",
       "      <td>0</td>\n",
       "      <td>...</td>\n",
       "      <td>23</td>\n",
       "      <td>0</td>\n",
       "      <td>0</td>\n",
       "      <td>2</td>\n",
       "      <td>4</td>\n",
       "      <td>1</td>\n",
       "      <td>1</td>\n",
       "      <td>1</td>\n",
       "      <td>0</td>\n",
       "      <td>0</td>\n",
       "    </tr>\n",
       "    <tr>\n",
       "      <td>61090</td>\n",
       "      <td>0</td>\n",
       "      <td>0</td>\n",
       "      <td>0</td>\n",
       "      <td>1</td>\n",
       "      <td>1</td>\n",
       "      <td>0</td>\n",
       "      <td>0</td>\n",
       "      <td>0</td>\n",
       "      <td>0</td>\n",
       "      <td>0</td>\n",
       "      <td>...</td>\n",
       "      <td>30</td>\n",
       "      <td>0</td>\n",
       "      <td>-1</td>\n",
       "      <td>0</td>\n",
       "      <td>4</td>\n",
       "      <td>0</td>\n",
       "      <td>0</td>\n",
       "      <td>0</td>\n",
       "      <td>1</td>\n",
       "      <td>0</td>\n",
       "    </tr>\n",
       "    <tr>\n",
       "      <td>61091</td>\n",
       "      <td>0</td>\n",
       "      <td>1</td>\n",
       "      <td>1</td>\n",
       "      <td>1</td>\n",
       "      <td>0</td>\n",
       "      <td>1</td>\n",
       "      <td>1</td>\n",
       "      <td>1</td>\n",
       "      <td>1</td>\n",
       "      <td>0</td>\n",
       "      <td>...</td>\n",
       "      <td>21</td>\n",
       "      <td>0</td>\n",
       "      <td>-1</td>\n",
       "      <td>12</td>\n",
       "      <td>18</td>\n",
       "      <td>0</td>\n",
       "      <td>1</td>\n",
       "      <td>0</td>\n",
       "      <td>0</td>\n",
       "      <td>0</td>\n",
       "    </tr>\n",
       "  </tbody>\n",
       "</table>\n",
       "<p>45374 rows × 27 columns</p>\n",
       "</div>"
      ],
      "text/plain": [
       "       is_sofw_dev  full_stack_wd  back_end_wd  front_end_wd  mobile_dev  \\\n",
       "0                0              0            0             0           0   \n",
       "1                0              1            0             0           0   \n",
       "2                0              0            0             0           0   \n",
       "3                0              0            0             1           0   \n",
       "4                0              0            0             0           0   \n",
       "...            ...            ...          ...           ...         ...   \n",
       "61086            0              0            0             0           0   \n",
       "61087            1              0            0             0           0   \n",
       "61089            0              0            0             0           0   \n",
       "61090            0              0            0             1           1   \n",
       "61091            0              1            1             1           0   \n",
       "\n",
       "       devops  data_sc  qlty_eng  ux_designer  prod_manager  ...  age  debt  \\\n",
       "0           0        1         0            0             0  ...   46     0   \n",
       "1           0        1         0            0             0  ...   22     0   \n",
       "2           0        1         0            0             0  ...   28     1   \n",
       "3           0        1         0            0             0  ...   22     0   \n",
       "4           0        1         0            0             0  ...   19     0   \n",
       "...       ...      ...       ...          ...           ...  ...  ...   ...   \n",
       "61086       0        0         0            0             0  ...   22     0   \n",
       "61087       0        0         0            0             0  ...   28     0   \n",
       "61089       0        0         0            0             0  ...   23     0   \n",
       "61090       0        0         0            0             0  ...   30     0   \n",
       "61091       1        1         1            1             0  ...   21     0   \n",
       "\n",
       "       employment  youtube  online_resources  inperson_events  podcasts  \\\n",
       "0              -1        0                 2                1         0   \n",
       "1               0        0                 6                0         0   \n",
       "2               1        0                 2                0         0   \n",
       "3               1        0                 3                0         1   \n",
       "4               1        0                 4                1         0   \n",
       "...           ...      ...               ...              ...       ...   \n",
       "61086           0        0                 8                0         0   \n",
       "61087           0        0                 2                0         0   \n",
       "61089           0        2                 4                1         1   \n",
       "61090          -1        0                 4                0         0   \n",
       "61091          -1       12                18                0         1   \n",
       "\n",
       "       gender_female  gender_male  gender_other  \n",
       "0                  0            1             0  \n",
       "1                  0            1             0  \n",
       "2                  0            1             0  \n",
       "3                  0            1             0  \n",
       "4                  0            1             0  \n",
       "...              ...          ...           ...  \n",
       "61086              0            1             0  \n",
       "61087              0            1             0  \n",
       "61089              1            0             0  \n",
       "61090              0            1             0  \n",
       "61091              0            0             0  \n",
       "\n",
       "[45374 rows x 27 columns]"
      ]
     },
     "execution_count": 1,
     "metadata": {},
     "output_type": "execute_result"
    }
   ],
   "source": [
    "%store -r fcc_relevant\n",
    "data = fcc_relevant\n",
    "data"
   ]
  },
  {
   "cell_type": "code",
   "execution_count": 3,
   "metadata": {},
   "outputs": [
    {
     "data": {
      "text/html": [
       "<div>\n",
       "<style scoped>\n",
       "    .dataframe tbody tr th:only-of-type {\n",
       "        vertical-align: middle;\n",
       "    }\n",
       "\n",
       "    .dataframe tbody tr th {\n",
       "        vertical-align: top;\n",
       "    }\n",
       "\n",
       "    .dataframe thead th {\n",
       "        text-align: right;\n",
       "    }\n",
       "</style>\n",
       "<table border=\"1\" class=\"dataframe\">\n",
       "  <thead>\n",
       "    <tr style=\"text-align: right;\">\n",
       "      <th></th>\n",
       "      <th>is_sofw_dev</th>\n",
       "      <th>full_stack_wd</th>\n",
       "      <th>back_end_wd</th>\n",
       "      <th>front_end_wd</th>\n",
       "      <th>mobile_dev</th>\n",
       "      <th>devops</th>\n",
       "      <th>data_sc</th>\n",
       "      <th>qlty_eng</th>\n",
       "      <th>ux_designer</th>\n",
       "      <th>prod_manager</th>\n",
       "      <th>...</th>\n",
       "      <th>age</th>\n",
       "      <th>debt</th>\n",
       "      <th>employment</th>\n",
       "      <th>youtube</th>\n",
       "      <th>online_resources</th>\n",
       "      <th>inperson_events</th>\n",
       "      <th>podcasts</th>\n",
       "      <th>gender_female</th>\n",
       "      <th>gender_male</th>\n",
       "      <th>gender_other</th>\n",
       "    </tr>\n",
       "  </thead>\n",
       "  <tbody>\n",
       "    <tr>\n",
       "      <td>count</td>\n",
       "      <td>45374.000000</td>\n",
       "      <td>45374.000000</td>\n",
       "      <td>45374.000000</td>\n",
       "      <td>45374.000000</td>\n",
       "      <td>45374.000000</td>\n",
       "      <td>45374.000000</td>\n",
       "      <td>45374.000000</td>\n",
       "      <td>45374.000000</td>\n",
       "      <td>45374.000000</td>\n",
       "      <td>45374.000000</td>\n",
       "      <td>...</td>\n",
       "      <td>45374.000000</td>\n",
       "      <td>45374.000000</td>\n",
       "      <td>45374.000000</td>\n",
       "      <td>45374.000000</td>\n",
       "      <td>45374.000000</td>\n",
       "      <td>45374.000000</td>\n",
       "      <td>45374.000000</td>\n",
       "      <td>45374.000000</td>\n",
       "      <td>45374.000000</td>\n",
       "      <td>45374.000000</td>\n",
       "    </tr>\n",
       "    <tr>\n",
       "      <td>mean</td>\n",
       "      <td>0.216842</td>\n",
       "      <td>0.244435</td>\n",
       "      <td>0.146273</td>\n",
       "      <td>0.198638</td>\n",
       "      <td>0.121083</td>\n",
       "      <td>0.054326</td>\n",
       "      <td>0.348459</td>\n",
       "      <td>0.031582</td>\n",
       "      <td>0.080619</td>\n",
       "      <td>0.046789</td>\n",
       "      <td>...</td>\n",
       "      <td>28.127672</td>\n",
       "      <td>0.447503</td>\n",
       "      <td>0.611584</td>\n",
       "      <td>1.201459</td>\n",
       "      <td>4.025543</td>\n",
       "      <td>0.843831</td>\n",
       "      <td>0.534778</td>\n",
       "      <td>0.203046</td>\n",
       "      <td>0.787015</td>\n",
       "      <td>0.006017</td>\n",
       "    </tr>\n",
       "    <tr>\n",
       "      <td>std</td>\n",
       "      <td>0.412099</td>\n",
       "      <td>0.429757</td>\n",
       "      <td>0.353384</td>\n",
       "      <td>0.398979</td>\n",
       "      <td>0.326227</td>\n",
       "      <td>0.226663</td>\n",
       "      <td>0.476488</td>\n",
       "      <td>0.174886</td>\n",
       "      <td>0.272252</td>\n",
       "      <td>0.211189</td>\n",
       "      <td>...</td>\n",
       "      <td>7.407713</td>\n",
       "      <td>0.497242</td>\n",
       "      <td>0.593431</td>\n",
       "      <td>1.745515</td>\n",
       "      <td>2.552831</td>\n",
       "      <td>1.033025</td>\n",
       "      <td>1.042954</td>\n",
       "      <td>0.402271</td>\n",
       "      <td>0.409422</td>\n",
       "      <td>0.077334</td>\n",
       "    </tr>\n",
       "    <tr>\n",
       "      <td>min</td>\n",
       "      <td>0.000000</td>\n",
       "      <td>0.000000</td>\n",
       "      <td>0.000000</td>\n",
       "      <td>0.000000</td>\n",
       "      <td>0.000000</td>\n",
       "      <td>0.000000</td>\n",
       "      <td>0.000000</td>\n",
       "      <td>0.000000</td>\n",
       "      <td>0.000000</td>\n",
       "      <td>0.000000</td>\n",
       "      <td>...</td>\n",
       "      <td>17.000000</td>\n",
       "      <td>0.000000</td>\n",
       "      <td>-1.000000</td>\n",
       "      <td>0.000000</td>\n",
       "      <td>0.000000</td>\n",
       "      <td>0.000000</td>\n",
       "      <td>0.000000</td>\n",
       "      <td>0.000000</td>\n",
       "      <td>0.000000</td>\n",
       "      <td>0.000000</td>\n",
       "    </tr>\n",
       "    <tr>\n",
       "      <td>25%</td>\n",
       "      <td>0.000000</td>\n",
       "      <td>0.000000</td>\n",
       "      <td>0.000000</td>\n",
       "      <td>0.000000</td>\n",
       "      <td>0.000000</td>\n",
       "      <td>0.000000</td>\n",
       "      <td>0.000000</td>\n",
       "      <td>0.000000</td>\n",
       "      <td>0.000000</td>\n",
       "      <td>0.000000</td>\n",
       "      <td>...</td>\n",
       "      <td>23.000000</td>\n",
       "      <td>0.000000</td>\n",
       "      <td>0.000000</td>\n",
       "      <td>0.000000</td>\n",
       "      <td>2.000000</td>\n",
       "      <td>0.000000</td>\n",
       "      <td>0.000000</td>\n",
       "      <td>0.000000</td>\n",
       "      <td>1.000000</td>\n",
       "      <td>0.000000</td>\n",
       "    </tr>\n",
       "    <tr>\n",
       "      <td>50%</td>\n",
       "      <td>0.000000</td>\n",
       "      <td>0.000000</td>\n",
       "      <td>0.000000</td>\n",
       "      <td>0.000000</td>\n",
       "      <td>0.000000</td>\n",
       "      <td>0.000000</td>\n",
       "      <td>0.000000</td>\n",
       "      <td>0.000000</td>\n",
       "      <td>0.000000</td>\n",
       "      <td>0.000000</td>\n",
       "      <td>...</td>\n",
       "      <td>27.000000</td>\n",
       "      <td>0.000000</td>\n",
       "      <td>1.000000</td>\n",
       "      <td>1.000000</td>\n",
       "      <td>4.000000</td>\n",
       "      <td>1.000000</td>\n",
       "      <td>0.000000</td>\n",
       "      <td>0.000000</td>\n",
       "      <td>1.000000</td>\n",
       "      <td>0.000000</td>\n",
       "    </tr>\n",
       "    <tr>\n",
       "      <td>75%</td>\n",
       "      <td>0.000000</td>\n",
       "      <td>0.000000</td>\n",
       "      <td>0.000000</td>\n",
       "      <td>0.000000</td>\n",
       "      <td>0.000000</td>\n",
       "      <td>0.000000</td>\n",
       "      <td>1.000000</td>\n",
       "      <td>0.000000</td>\n",
       "      <td>0.000000</td>\n",
       "      <td>0.000000</td>\n",
       "      <td>...</td>\n",
       "      <td>32.000000</td>\n",
       "      <td>1.000000</td>\n",
       "      <td>1.000000</td>\n",
       "      <td>2.000000</td>\n",
       "      <td>5.000000</td>\n",
       "      <td>1.000000</td>\n",
       "      <td>1.000000</td>\n",
       "      <td>0.000000</td>\n",
       "      <td>1.000000</td>\n",
       "      <td>0.000000</td>\n",
       "    </tr>\n",
       "    <tr>\n",
       "      <td>max</td>\n",
       "      <td>1.000000</td>\n",
       "      <td>1.000000</td>\n",
       "      <td>1.000000</td>\n",
       "      <td>1.000000</td>\n",
       "      <td>1.000000</td>\n",
       "      <td>1.000000</td>\n",
       "      <td>1.000000</td>\n",
       "      <td>1.000000</td>\n",
       "      <td>1.000000</td>\n",
       "      <td>1.000000</td>\n",
       "      <td>...</td>\n",
       "      <td>52.000000</td>\n",
       "      <td>1.000000</td>\n",
       "      <td>1.000000</td>\n",
       "      <td>17.000000</td>\n",
       "      <td>19.000000</td>\n",
       "      <td>16.000000</td>\n",
       "      <td>19.000000</td>\n",
       "      <td>1.000000</td>\n",
       "      <td>1.000000</td>\n",
       "      <td>1.000000</td>\n",
       "    </tr>\n",
       "  </tbody>\n",
       "</table>\n",
       "<p>8 rows × 27 columns</p>\n",
       "</div>"
      ],
      "text/plain": [
       "        is_sofw_dev  full_stack_wd   back_end_wd  front_end_wd    mobile_dev  \\\n",
       "count  45374.000000   45374.000000  45374.000000  45374.000000  45374.000000   \n",
       "mean       0.216842       0.244435      0.146273      0.198638      0.121083   \n",
       "std        0.412099       0.429757      0.353384      0.398979      0.326227   \n",
       "min        0.000000       0.000000      0.000000      0.000000      0.000000   \n",
       "25%        0.000000       0.000000      0.000000      0.000000      0.000000   \n",
       "50%        0.000000       0.000000      0.000000      0.000000      0.000000   \n",
       "75%        0.000000       0.000000      0.000000      0.000000      0.000000   \n",
       "max        1.000000       1.000000      1.000000      1.000000      1.000000   \n",
       "\n",
       "             devops       data_sc      qlty_eng   ux_designer  prod_manager  \\\n",
       "count  45374.000000  45374.000000  45374.000000  45374.000000  45374.000000   \n",
       "mean       0.054326      0.348459      0.031582      0.080619      0.046789   \n",
       "std        0.226663      0.476488      0.174886      0.272252      0.211189   \n",
       "min        0.000000      0.000000      0.000000      0.000000      0.000000   \n",
       "25%        0.000000      0.000000      0.000000      0.000000      0.000000   \n",
       "50%        0.000000      0.000000      0.000000      0.000000      0.000000   \n",
       "75%        0.000000      1.000000      0.000000      0.000000      0.000000   \n",
       "max        1.000000      1.000000      1.000000      1.000000      1.000000   \n",
       "\n",
       "       ...           age          debt    employment       youtube  \\\n",
       "count  ...  45374.000000  45374.000000  45374.000000  45374.000000   \n",
       "mean   ...     28.127672      0.447503      0.611584      1.201459   \n",
       "std    ...      7.407713      0.497242      0.593431      1.745515   \n",
       "min    ...     17.000000      0.000000     -1.000000      0.000000   \n",
       "25%    ...     23.000000      0.000000      0.000000      0.000000   \n",
       "50%    ...     27.000000      0.000000      1.000000      1.000000   \n",
       "75%    ...     32.000000      1.000000      1.000000      2.000000   \n",
       "max    ...     52.000000      1.000000      1.000000     17.000000   \n",
       "\n",
       "       online_resources  inperson_events      podcasts  gender_female  \\\n",
       "count      45374.000000     45374.000000  45374.000000   45374.000000   \n",
       "mean           4.025543         0.843831      0.534778       0.203046   \n",
       "std            2.552831         1.033025      1.042954       0.402271   \n",
       "min            0.000000         0.000000      0.000000       0.000000   \n",
       "25%            2.000000         0.000000      0.000000       0.000000   \n",
       "50%            4.000000         1.000000      0.000000       0.000000   \n",
       "75%            5.000000         1.000000      1.000000       0.000000   \n",
       "max           19.000000        16.000000     19.000000       1.000000   \n",
       "\n",
       "        gender_male  gender_other  \n",
       "count  45374.000000  45374.000000  \n",
       "mean       0.787015      0.006017  \n",
       "std        0.409422      0.077334  \n",
       "min        0.000000      0.000000  \n",
       "25%        1.000000      0.000000  \n",
       "50%        1.000000      0.000000  \n",
       "75%        1.000000      0.000000  \n",
       "max        1.000000      1.000000  \n",
       "\n",
       "[8 rows x 27 columns]"
      ]
     },
     "execution_count": 3,
     "metadata": {},
     "output_type": "execute_result"
    }
   ],
   "source": [
    "data.describe()"
   ]
  },
  {
   "cell_type": "code",
   "execution_count": 4,
   "metadata": {},
   "outputs": [
    {
     "data": {
      "text/plain": [
       "0    35535\n",
       "1     9839\n",
       "Name: is_sofw_dev, dtype: int64"
      ]
     },
     "execution_count": 4,
     "metadata": {},
     "output_type": "execute_result"
    }
   ],
   "source": [
    "data.is_sofw_dev.value_counts()"
   ]
  },
  {
   "cell_type": "code",
   "execution_count": 5,
   "metadata": {
    "scrolled": false
   },
   "outputs": [
    {
     "data": {
      "text/plain": [
       "['is_sofw_dev',\n",
       " 'full_stack_wd',\n",
       " 'back_end_wd',\n",
       " 'front_end_wd',\n",
       " 'mobile_dev',\n",
       " 'devops',\n",
       " 'data_sc',\n",
       " 'qlty_eng',\n",
       " 'ux_designer',\n",
       " 'prod_manager',\n",
       " 'game_dev',\n",
       " 'inf_security',\n",
       " 'data_eng',\n",
       " 'hours_learning_week',\n",
       " 'months_programming',\n",
       " 'attended_bootcamp',\n",
       " 'coding_expenses',\n",
       " 'age',\n",
       " 'debt',\n",
       " 'employment',\n",
       " 'youtube',\n",
       " 'online_resources',\n",
       " 'inperson_events',\n",
       " 'podcasts',\n",
       " 'gender_female',\n",
       " 'gender_male',\n",
       " 'gender_other']"
      ]
     },
     "execution_count": 5,
     "metadata": {},
     "output_type": "execute_result"
    }
   ],
   "source": [
    "list(data.columns)"
   ]
  },
  {
   "cell_type": "code",
   "execution_count": 6,
   "metadata": {},
   "outputs": [
    {
     "data": {
      "text/html": [
       "<div>\n",
       "<style scoped>\n",
       "    .dataframe tbody tr th:only-of-type {\n",
       "        vertical-align: middle;\n",
       "    }\n",
       "\n",
       "    .dataframe tbody tr th {\n",
       "        vertical-align: top;\n",
       "    }\n",
       "\n",
       "    .dataframe thead th {\n",
       "        text-align: right;\n",
       "    }\n",
       "</style>\n",
       "<table border=\"1\" class=\"dataframe\">\n",
       "  <thead>\n",
       "    <tr style=\"text-align: right;\">\n",
       "      <th></th>\n",
       "      <th>is_sofw_dev</th>\n",
       "      <th>full_stack_wd</th>\n",
       "      <th>back_end_wd</th>\n",
       "      <th>front_end_wd</th>\n",
       "      <th>mobile_dev</th>\n",
       "      <th>devops</th>\n",
       "      <th>data_sc</th>\n",
       "      <th>qlty_eng</th>\n",
       "      <th>ux_designer</th>\n",
       "      <th>prod_manager</th>\n",
       "      <th>...</th>\n",
       "      <th>age</th>\n",
       "      <th>debt</th>\n",
       "      <th>employment</th>\n",
       "      <th>youtube</th>\n",
       "      <th>online_resources</th>\n",
       "      <th>inperson_events</th>\n",
       "      <th>podcasts</th>\n",
       "      <th>gender_female</th>\n",
       "      <th>gender_male</th>\n",
       "      <th>gender_other</th>\n",
       "    </tr>\n",
       "  </thead>\n",
       "  <tbody>\n",
       "    <tr>\n",
       "      <td>count</td>\n",
       "      <td>45374.000000</td>\n",
       "      <td>45374.000000</td>\n",
       "      <td>45374.000000</td>\n",
       "      <td>45374.000000</td>\n",
       "      <td>45374.000000</td>\n",
       "      <td>45374.000000</td>\n",
       "      <td>45374.000000</td>\n",
       "      <td>45374.000000</td>\n",
       "      <td>45374.000000</td>\n",
       "      <td>45374.000000</td>\n",
       "      <td>...</td>\n",
       "      <td>45374.000000</td>\n",
       "      <td>45374.000000</td>\n",
       "      <td>45374.000000</td>\n",
       "      <td>45374.000000</td>\n",
       "      <td>45374.000000</td>\n",
       "      <td>45374.000000</td>\n",
       "      <td>45374.000000</td>\n",
       "      <td>45374.000000</td>\n",
       "      <td>45374.000000</td>\n",
       "      <td>45374.000000</td>\n",
       "    </tr>\n",
       "    <tr>\n",
       "      <td>mean</td>\n",
       "      <td>0.216842</td>\n",
       "      <td>0.244435</td>\n",
       "      <td>0.146273</td>\n",
       "      <td>0.198638</td>\n",
       "      <td>0.121083</td>\n",
       "      <td>0.054326</td>\n",
       "      <td>0.348459</td>\n",
       "      <td>0.031582</td>\n",
       "      <td>0.080619</td>\n",
       "      <td>0.046789</td>\n",
       "      <td>...</td>\n",
       "      <td>28.127672</td>\n",
       "      <td>0.447503</td>\n",
       "      <td>0.611584</td>\n",
       "      <td>1.201459</td>\n",
       "      <td>4.025543</td>\n",
       "      <td>0.843831</td>\n",
       "      <td>0.534778</td>\n",
       "      <td>0.203046</td>\n",
       "      <td>0.787015</td>\n",
       "      <td>0.006017</td>\n",
       "    </tr>\n",
       "    <tr>\n",
       "      <td>std</td>\n",
       "      <td>0.412099</td>\n",
       "      <td>0.429757</td>\n",
       "      <td>0.353384</td>\n",
       "      <td>0.398979</td>\n",
       "      <td>0.326227</td>\n",
       "      <td>0.226663</td>\n",
       "      <td>0.476488</td>\n",
       "      <td>0.174886</td>\n",
       "      <td>0.272252</td>\n",
       "      <td>0.211189</td>\n",
       "      <td>...</td>\n",
       "      <td>7.407713</td>\n",
       "      <td>0.497242</td>\n",
       "      <td>0.593431</td>\n",
       "      <td>1.745515</td>\n",
       "      <td>2.552831</td>\n",
       "      <td>1.033025</td>\n",
       "      <td>1.042954</td>\n",
       "      <td>0.402271</td>\n",
       "      <td>0.409422</td>\n",
       "      <td>0.077334</td>\n",
       "    </tr>\n",
       "    <tr>\n",
       "      <td>min</td>\n",
       "      <td>0.000000</td>\n",
       "      <td>0.000000</td>\n",
       "      <td>0.000000</td>\n",
       "      <td>0.000000</td>\n",
       "      <td>0.000000</td>\n",
       "      <td>0.000000</td>\n",
       "      <td>0.000000</td>\n",
       "      <td>0.000000</td>\n",
       "      <td>0.000000</td>\n",
       "      <td>0.000000</td>\n",
       "      <td>...</td>\n",
       "      <td>17.000000</td>\n",
       "      <td>0.000000</td>\n",
       "      <td>-1.000000</td>\n",
       "      <td>0.000000</td>\n",
       "      <td>0.000000</td>\n",
       "      <td>0.000000</td>\n",
       "      <td>0.000000</td>\n",
       "      <td>0.000000</td>\n",
       "      <td>0.000000</td>\n",
       "      <td>0.000000</td>\n",
       "    </tr>\n",
       "    <tr>\n",
       "      <td>25%</td>\n",
       "      <td>0.000000</td>\n",
       "      <td>0.000000</td>\n",
       "      <td>0.000000</td>\n",
       "      <td>0.000000</td>\n",
       "      <td>0.000000</td>\n",
       "      <td>0.000000</td>\n",
       "      <td>0.000000</td>\n",
       "      <td>0.000000</td>\n",
       "      <td>0.000000</td>\n",
       "      <td>0.000000</td>\n",
       "      <td>...</td>\n",
       "      <td>23.000000</td>\n",
       "      <td>0.000000</td>\n",
       "      <td>0.000000</td>\n",
       "      <td>0.000000</td>\n",
       "      <td>2.000000</td>\n",
       "      <td>0.000000</td>\n",
       "      <td>0.000000</td>\n",
       "      <td>0.000000</td>\n",
       "      <td>1.000000</td>\n",
       "      <td>0.000000</td>\n",
       "    </tr>\n",
       "    <tr>\n",
       "      <td>50%</td>\n",
       "      <td>0.000000</td>\n",
       "      <td>0.000000</td>\n",
       "      <td>0.000000</td>\n",
       "      <td>0.000000</td>\n",
       "      <td>0.000000</td>\n",
       "      <td>0.000000</td>\n",
       "      <td>0.000000</td>\n",
       "      <td>0.000000</td>\n",
       "      <td>0.000000</td>\n",
       "      <td>0.000000</td>\n",
       "      <td>...</td>\n",
       "      <td>27.000000</td>\n",
       "      <td>0.000000</td>\n",
       "      <td>1.000000</td>\n",
       "      <td>1.000000</td>\n",
       "      <td>4.000000</td>\n",
       "      <td>1.000000</td>\n",
       "      <td>0.000000</td>\n",
       "      <td>0.000000</td>\n",
       "      <td>1.000000</td>\n",
       "      <td>0.000000</td>\n",
       "    </tr>\n",
       "    <tr>\n",
       "      <td>75%</td>\n",
       "      <td>0.000000</td>\n",
       "      <td>0.000000</td>\n",
       "      <td>0.000000</td>\n",
       "      <td>0.000000</td>\n",
       "      <td>0.000000</td>\n",
       "      <td>0.000000</td>\n",
       "      <td>1.000000</td>\n",
       "      <td>0.000000</td>\n",
       "      <td>0.000000</td>\n",
       "      <td>0.000000</td>\n",
       "      <td>...</td>\n",
       "      <td>32.000000</td>\n",
       "      <td>1.000000</td>\n",
       "      <td>1.000000</td>\n",
       "      <td>2.000000</td>\n",
       "      <td>5.000000</td>\n",
       "      <td>1.000000</td>\n",
       "      <td>1.000000</td>\n",
       "      <td>0.000000</td>\n",
       "      <td>1.000000</td>\n",
       "      <td>0.000000</td>\n",
       "    </tr>\n",
       "    <tr>\n",
       "      <td>max</td>\n",
       "      <td>1.000000</td>\n",
       "      <td>1.000000</td>\n",
       "      <td>1.000000</td>\n",
       "      <td>1.000000</td>\n",
       "      <td>1.000000</td>\n",
       "      <td>1.000000</td>\n",
       "      <td>1.000000</td>\n",
       "      <td>1.000000</td>\n",
       "      <td>1.000000</td>\n",
       "      <td>1.000000</td>\n",
       "      <td>...</td>\n",
       "      <td>52.000000</td>\n",
       "      <td>1.000000</td>\n",
       "      <td>1.000000</td>\n",
       "      <td>17.000000</td>\n",
       "      <td>19.000000</td>\n",
       "      <td>16.000000</td>\n",
       "      <td>19.000000</td>\n",
       "      <td>1.000000</td>\n",
       "      <td>1.000000</td>\n",
       "      <td>1.000000</td>\n",
       "    </tr>\n",
       "  </tbody>\n",
       "</table>\n",
       "<p>8 rows × 27 columns</p>\n",
       "</div>"
      ],
      "text/plain": [
       "        is_sofw_dev  full_stack_wd   back_end_wd  front_end_wd    mobile_dev  \\\n",
       "count  45374.000000   45374.000000  45374.000000  45374.000000  45374.000000   \n",
       "mean       0.216842       0.244435      0.146273      0.198638      0.121083   \n",
       "std        0.412099       0.429757      0.353384      0.398979      0.326227   \n",
       "min        0.000000       0.000000      0.000000      0.000000      0.000000   \n",
       "25%        0.000000       0.000000      0.000000      0.000000      0.000000   \n",
       "50%        0.000000       0.000000      0.000000      0.000000      0.000000   \n",
       "75%        0.000000       0.000000      0.000000      0.000000      0.000000   \n",
       "max        1.000000       1.000000      1.000000      1.000000      1.000000   \n",
       "\n",
       "             devops       data_sc      qlty_eng   ux_designer  prod_manager  \\\n",
       "count  45374.000000  45374.000000  45374.000000  45374.000000  45374.000000   \n",
       "mean       0.054326      0.348459      0.031582      0.080619      0.046789   \n",
       "std        0.226663      0.476488      0.174886      0.272252      0.211189   \n",
       "min        0.000000      0.000000      0.000000      0.000000      0.000000   \n",
       "25%        0.000000      0.000000      0.000000      0.000000      0.000000   \n",
       "50%        0.000000      0.000000      0.000000      0.000000      0.000000   \n",
       "75%        0.000000      1.000000      0.000000      0.000000      0.000000   \n",
       "max        1.000000      1.000000      1.000000      1.000000      1.000000   \n",
       "\n",
       "       ...           age          debt    employment       youtube  \\\n",
       "count  ...  45374.000000  45374.000000  45374.000000  45374.000000   \n",
       "mean   ...     28.127672      0.447503      0.611584      1.201459   \n",
       "std    ...      7.407713      0.497242      0.593431      1.745515   \n",
       "min    ...     17.000000      0.000000     -1.000000      0.000000   \n",
       "25%    ...     23.000000      0.000000      0.000000      0.000000   \n",
       "50%    ...     27.000000      0.000000      1.000000      1.000000   \n",
       "75%    ...     32.000000      1.000000      1.000000      2.000000   \n",
       "max    ...     52.000000      1.000000      1.000000     17.000000   \n",
       "\n",
       "       online_resources  inperson_events      podcasts  gender_female  \\\n",
       "count      45374.000000     45374.000000  45374.000000   45374.000000   \n",
       "mean           4.025543         0.843831      0.534778       0.203046   \n",
       "std            2.552831         1.033025      1.042954       0.402271   \n",
       "min            0.000000         0.000000      0.000000       0.000000   \n",
       "25%            2.000000         0.000000      0.000000       0.000000   \n",
       "50%            4.000000         1.000000      0.000000       0.000000   \n",
       "75%            5.000000         1.000000      1.000000       0.000000   \n",
       "max           19.000000        16.000000     19.000000       1.000000   \n",
       "\n",
       "        gender_male  gender_other  \n",
       "count  45374.000000  45374.000000  \n",
       "mean       0.787015      0.006017  \n",
       "std        0.409422      0.077334  \n",
       "min        0.000000      0.000000  \n",
       "25%        1.000000      0.000000  \n",
       "50%        1.000000      0.000000  \n",
       "75%        1.000000      0.000000  \n",
       "max        1.000000      1.000000  \n",
       "\n",
       "[8 rows x 27 columns]"
      ]
     },
     "execution_count": 6,
     "metadata": {},
     "output_type": "execute_result"
    }
   ],
   "source": [
    "from sklearn.preprocessing import MinMaxScaler, StandardScaler   # what's the difference??\n",
    "\n",
    "# initialization of the scale\n",
    "scaler = MinMaxScaler(feature_range=(0,1))\n",
    "\n",
    "# apply the scale/model to the dataset.  \n",
    "data['coding_expenses'] = scaler.fit_transform(data['coding_expenses'].values.reshape(-1, 1)) \n",
    "\n",
    "data.describe()"
   ]
  },
  {
   "cell_type": "code",
   "execution_count": 7,
   "metadata": {},
   "outputs": [
    {
     "data": {
      "text/plain": [
       "(array([42133.,  1243.,   492.,   287.,   378.,   142.,   240.,    83.,\n",
       "          295.,    81.]),\n",
       " array([0. , 0.1, 0.2, 0.3, 0.4, 0.5, 0.6, 0.7, 0.8, 0.9, 1. ]),\n",
       " <a list of 10 Patch objects>)"
      ]
     },
     "execution_count": 7,
     "metadata": {},
     "output_type": "execute_result"
    },
    {
     "data": {
      "image/png": "[encoded data removed]",
      "text/plain": [
       "<Figure size 432x288 with 1 Axes>"
      ]
     },
     "metadata": {},
     "output_type": "display_data"
    }
   ],
   "source": [
    "plt.hist(data['coding_expenses'])"
   ]
  },
  {
   "cell_type": "code",
   "execution_count": 8,
   "metadata": {},
   "outputs": [
    {
     "data": {
      "text/html": [
       "<div>\n",
       "<style scoped>\n",
       "    .dataframe tbody tr th:only-of-type {\n",
       "        vertical-align: middle;\n",
       "    }\n",
       "\n",
       "    .dataframe tbody tr th {\n",
       "        vertical-align: top;\n",
       "    }\n",
       "\n",
       "    .dataframe thead th {\n",
       "        text-align: right;\n",
       "    }\n",
       "</style>\n",
       "<table border=\"1\" class=\"dataframe\">\n",
       "  <thead>\n",
       "    <tr style=\"text-align: right;\">\n",
       "      <th></th>\n",
       "      <th>is_sofw_dev</th>\n",
       "      <th>full_stack_wd</th>\n",
       "      <th>back_end_wd</th>\n",
       "      <th>front_end_wd</th>\n",
       "      <th>mobile_dev</th>\n",
       "      <th>devops</th>\n",
       "      <th>data_sc</th>\n",
       "      <th>qlty_eng</th>\n",
       "      <th>ux_designer</th>\n",
       "      <th>prod_manager</th>\n",
       "      <th>...</th>\n",
       "      <th>age</th>\n",
       "      <th>debt</th>\n",
       "      <th>employment</th>\n",
       "      <th>youtube</th>\n",
       "      <th>online_resources</th>\n",
       "      <th>inperson_events</th>\n",
       "      <th>podcasts</th>\n",
       "      <th>gender_female</th>\n",
       "      <th>gender_male</th>\n",
       "      <th>gender_other</th>\n",
       "    </tr>\n",
       "  </thead>\n",
       "  <tbody>\n",
       "    <tr>\n",
       "      <td>count</td>\n",
       "      <td>45374.000000</td>\n",
       "      <td>45374.000000</td>\n",
       "      <td>45374.000000</td>\n",
       "      <td>45374.000000</td>\n",
       "      <td>45374.000000</td>\n",
       "      <td>45374.000000</td>\n",
       "      <td>45374.000000</td>\n",
       "      <td>45374.000000</td>\n",
       "      <td>45374.000000</td>\n",
       "      <td>45374.000000</td>\n",
       "      <td>...</td>\n",
       "      <td>45374.000000</td>\n",
       "      <td>45374.000000</td>\n",
       "      <td>45374.000000</td>\n",
       "      <td>45374.000000</td>\n",
       "      <td>45374.000000</td>\n",
       "      <td>45374.000000</td>\n",
       "      <td>45374.000000</td>\n",
       "      <td>45374.000000</td>\n",
       "      <td>45374.000000</td>\n",
       "      <td>45374.000000</td>\n",
       "    </tr>\n",
       "    <tr>\n",
       "      <td>mean</td>\n",
       "      <td>0.216842</td>\n",
       "      <td>0.244435</td>\n",
       "      <td>0.146273</td>\n",
       "      <td>0.198638</td>\n",
       "      <td>0.121083</td>\n",
       "      <td>0.054326</td>\n",
       "      <td>0.348459</td>\n",
       "      <td>0.031582</td>\n",
       "      <td>0.080619</td>\n",
       "      <td>0.046789</td>\n",
       "      <td>...</td>\n",
       "      <td>28.127672</td>\n",
       "      <td>0.447503</td>\n",
       "      <td>0.611584</td>\n",
       "      <td>1.201459</td>\n",
       "      <td>4.025543</td>\n",
       "      <td>0.843831</td>\n",
       "      <td>0.534778</td>\n",
       "      <td>0.203046</td>\n",
       "      <td>0.787015</td>\n",
       "      <td>0.006017</td>\n",
       "    </tr>\n",
       "    <tr>\n",
       "      <td>std</td>\n",
       "      <td>0.412099</td>\n",
       "      <td>0.429757</td>\n",
       "      <td>0.353384</td>\n",
       "      <td>0.398979</td>\n",
       "      <td>0.326227</td>\n",
       "      <td>0.226663</td>\n",
       "      <td>0.476488</td>\n",
       "      <td>0.174886</td>\n",
       "      <td>0.272252</td>\n",
       "      <td>0.211189</td>\n",
       "      <td>...</td>\n",
       "      <td>7.407713</td>\n",
       "      <td>0.497242</td>\n",
       "      <td>0.593431</td>\n",
       "      <td>1.745515</td>\n",
       "      <td>2.552831</td>\n",
       "      <td>1.033025</td>\n",
       "      <td>1.042954</td>\n",
       "      <td>0.402271</td>\n",
       "      <td>0.409422</td>\n",
       "      <td>0.077334</td>\n",
       "    </tr>\n",
       "    <tr>\n",
       "      <td>min</td>\n",
       "      <td>0.000000</td>\n",
       "      <td>0.000000</td>\n",
       "      <td>0.000000</td>\n",
       "      <td>0.000000</td>\n",
       "      <td>0.000000</td>\n",
       "      <td>0.000000</td>\n",
       "      <td>0.000000</td>\n",
       "      <td>0.000000</td>\n",
       "      <td>0.000000</td>\n",
       "      <td>0.000000</td>\n",
       "      <td>...</td>\n",
       "      <td>17.000000</td>\n",
       "      <td>0.000000</td>\n",
       "      <td>-1.000000</td>\n",
       "      <td>0.000000</td>\n",
       "      <td>0.000000</td>\n",
       "      <td>0.000000</td>\n",
       "      <td>0.000000</td>\n",
       "      <td>0.000000</td>\n",
       "      <td>0.000000</td>\n",
       "      <td>0.000000</td>\n",
       "    </tr>\n",
       "    <tr>\n",
       "      <td>25%</td>\n",
       "      <td>0.000000</td>\n",
       "      <td>0.000000</td>\n",
       "      <td>0.000000</td>\n",
       "      <td>0.000000</td>\n",
       "      <td>0.000000</td>\n",
       "      <td>0.000000</td>\n",
       "      <td>0.000000</td>\n",
       "      <td>0.000000</td>\n",
       "      <td>0.000000</td>\n",
       "      <td>0.000000</td>\n",
       "      <td>...</td>\n",
       "      <td>23.000000</td>\n",
       "      <td>0.000000</td>\n",
       "      <td>0.000000</td>\n",
       "      <td>0.000000</td>\n",
       "      <td>2.000000</td>\n",
       "      <td>0.000000</td>\n",
       "      <td>0.000000</td>\n",
       "      <td>0.000000</td>\n",
       "      <td>1.000000</td>\n",
       "      <td>0.000000</td>\n",
       "    </tr>\n",
       "    <tr>\n",
       "      <td>50%</td>\n",
       "      <td>0.000000</td>\n",
       "      <td>0.000000</td>\n",
       "      <td>0.000000</td>\n",
       "      <td>0.000000</td>\n",
       "      <td>0.000000</td>\n",
       "      <td>0.000000</td>\n",
       "      <td>0.000000</td>\n",
       "      <td>0.000000</td>\n",
       "      <td>0.000000</td>\n",
       "      <td>0.000000</td>\n",
       "      <td>...</td>\n",
       "      <td>27.000000</td>\n",
       "      <td>0.000000</td>\n",
       "      <td>1.000000</td>\n",
       "      <td>1.000000</td>\n",
       "      <td>4.000000</td>\n",
       "      <td>1.000000</td>\n",
       "      <td>0.000000</td>\n",
       "      <td>0.000000</td>\n",
       "      <td>1.000000</td>\n",
       "      <td>0.000000</td>\n",
       "    </tr>\n",
       "    <tr>\n",
       "      <td>75%</td>\n",
       "      <td>0.000000</td>\n",
       "      <td>0.000000</td>\n",
       "      <td>0.000000</td>\n",
       "      <td>0.000000</td>\n",
       "      <td>0.000000</td>\n",
       "      <td>0.000000</td>\n",
       "      <td>1.000000</td>\n",
       "      <td>0.000000</td>\n",
       "      <td>0.000000</td>\n",
       "      <td>0.000000</td>\n",
       "      <td>...</td>\n",
       "      <td>32.000000</td>\n",
       "      <td>1.000000</td>\n",
       "      <td>1.000000</td>\n",
       "      <td>2.000000</td>\n",
       "      <td>5.000000</td>\n",
       "      <td>1.000000</td>\n",
       "      <td>1.000000</td>\n",
       "      <td>0.000000</td>\n",
       "      <td>1.000000</td>\n",
       "      <td>0.000000</td>\n",
       "    </tr>\n",
       "    <tr>\n",
       "      <td>max</td>\n",
       "      <td>1.000000</td>\n",
       "      <td>1.000000</td>\n",
       "      <td>1.000000</td>\n",
       "      <td>1.000000</td>\n",
       "      <td>1.000000</td>\n",
       "      <td>1.000000</td>\n",
       "      <td>1.000000</td>\n",
       "      <td>1.000000</td>\n",
       "      <td>1.000000</td>\n",
       "      <td>1.000000</td>\n",
       "      <td>...</td>\n",
       "      <td>52.000000</td>\n",
       "      <td>1.000000</td>\n",
       "      <td>1.000000</td>\n",
       "      <td>17.000000</td>\n",
       "      <td>19.000000</td>\n",
       "      <td>16.000000</td>\n",
       "      <td>19.000000</td>\n",
       "      <td>1.000000</td>\n",
       "      <td>1.000000</td>\n",
       "      <td>1.000000</td>\n",
       "    </tr>\n",
       "  </tbody>\n",
       "</table>\n",
       "<p>8 rows × 27 columns</p>\n",
       "</div>"
      ],
      "text/plain": [
       "        is_sofw_dev  full_stack_wd   back_end_wd  front_end_wd    mobile_dev  \\\n",
       "count  45374.000000   45374.000000  45374.000000  45374.000000  45374.000000   \n",
       "mean       0.216842       0.244435      0.146273      0.198638      0.121083   \n",
       "std        0.412099       0.429757      0.353384      0.398979      0.326227   \n",
       "min        0.000000       0.000000      0.000000      0.000000      0.000000   \n",
       "25%        0.000000       0.000000      0.000000      0.000000      0.000000   \n",
       "50%        0.000000       0.000000      0.000000      0.000000      0.000000   \n",
       "75%        0.000000       0.000000      0.000000      0.000000      0.000000   \n",
       "max        1.000000       1.000000      1.000000      1.000000      1.000000   \n",
       "\n",
       "             devops       data_sc      qlty_eng   ux_designer  prod_manager  \\\n",
       "count  45374.000000  45374.000000  45374.000000  45374.000000  45374.000000   \n",
       "mean       0.054326      0.348459      0.031582      0.080619      0.046789   \n",
       "std        0.226663      0.476488      0.174886      0.272252      0.211189   \n",
       "min        0.000000      0.000000      0.000000      0.000000      0.000000   \n",
       "25%        0.000000      0.000000      0.000000      0.000000      0.000000   \n",
       "50%        0.000000      0.000000      0.000000      0.000000      0.000000   \n",
       "75%        0.000000      1.000000      0.000000      0.000000      0.000000   \n",
       "max        1.000000      1.000000      1.000000      1.000000      1.000000   \n",
       "\n",
       "       ...           age          debt    employment       youtube  \\\n",
       "count  ...  45374.000000  45374.000000  45374.000000  45374.000000   \n",
       "mean   ...     28.127672      0.447503      0.611584      1.201459   \n",
       "std    ...      7.407713      0.497242      0.593431      1.745515   \n",
       "min    ...     17.000000      0.000000     -1.000000      0.000000   \n",
       "25%    ...     23.000000      0.000000      0.000000      0.000000   \n",
       "50%    ...     27.000000      0.000000      1.000000      1.000000   \n",
       "75%    ...     32.000000      1.000000      1.000000      2.000000   \n",
       "max    ...     52.000000      1.000000      1.000000     17.000000   \n",
       "\n",
       "       online_resources  inperson_events      podcasts  gender_female  \\\n",
       "count      45374.000000     45374.000000  45374.000000   45374.000000   \n",
       "mean           4.025543         0.843831      0.534778       0.203046   \n",
       "std            2.552831         1.033025      1.042954       0.402271   \n",
       "min            0.000000         0.000000      0.000000       0.000000   \n",
       "25%            2.000000         0.000000      0.000000       0.000000   \n",
       "50%            4.000000         1.000000      0.000000       0.000000   \n",
       "75%            5.000000         1.000000      1.000000       0.000000   \n",
       "max           19.000000        16.000000     19.000000       1.000000   \n",
       "\n",
       "        gender_male  gender_other  \n",
       "count  45374.000000  45374.000000  \n",
       "mean       0.787015      0.006017  \n",
       "std        0.409422      0.077334  \n",
       "min        0.000000      0.000000  \n",
       "25%        1.000000      0.000000  \n",
       "50%        1.000000      0.000000  \n",
       "75%        1.000000      0.000000  \n",
       "max        1.000000      1.000000  \n",
       "\n",
       "[8 rows x 27 columns]"
      ]
     },
     "execution_count": 8,
     "metadata": {},
     "output_type": "execute_result"
    }
   ],
   "source": [
    "data.describe()"
   ]
  },
  {
   "cell_type": "code",
   "execution_count": 9,
   "metadata": {
    "scrolled": true
   },
   "outputs": [
    {
     "data": {
      "text/plain": [
       "0    35535\n",
       "1     9839\n",
       "Name: is_sofw_dev, dtype: int64"
      ]
     },
     "execution_count": 9,
     "metadata": {},
     "output_type": "execute_result"
    }
   ],
   "source": [
    "data.is_sofw_dev.value_counts()"
   ]
  },
  {
   "cell_type": "code",
   "execution_count": 11,
   "metadata": {},
   "outputs": [],
   "source": [
    "y = data['is_sofw_dev']\n",
    "\n",
    "X = data.drop(['is_sofw_dev'], axis = 1)\n",
    "\n",
    "X_train, X_test, y_train, y_test = train_test_split(X, y, test_size = 0.3, random_state=29)"
   ]
  },
  {
   "cell_type": "code",
   "execution_count": 12,
   "metadata": {},
   "outputs": [],
   "source": [
    "acc_dict = {}"
   ]
  },
  {
   "cell_type": "markdown",
   "metadata": {},
   "source": [
    "## Linear Regression"
   ]
  },
  {
   "cell_type": "code",
   "execution_count": 13,
   "metadata": {},
   "outputs": [
    {
     "name": "stdout",
     "output_type": "stream",
     "text": [
      "Logistic Regression Test Accuracy 32.05%\n"
     ]
    },
    {
     "name": "stderr",
     "output_type": "stream",
     "text": [
      "/usr/local/lib/python3.6/dist-packages/sklearn/linear_model/logistic.py:432: FutureWarning: Default solver will be changed to 'lbfgs' in 0.22. Specify a solver to silence this warning.\n",
      "  FutureWarning)\n"
     ]
    }
   ],
   "source": [
    "## Logistic Regression\n",
    "lr = LogisticRegression()\n",
    "lr.fit(X_train,y_train)\n",
    "acc_lr = lr.score(X_test,y_test)*100\n",
    "\n",
    "print(f\"Logistic Regression Test Accuracy {round(acc_lr, 2)}%\")\n",
    "\n",
    "acc_dict['logistic regression'] = round(acc_lr,2)"
   ]
  },
  {
   "cell_type": "code",
   "execution_count": 14,
   "metadata": {},
   "outputs": [
    {
     "name": "stderr",
     "output_type": "stream",
     "text": [
      "/usr/local/lib/python3.6/dist-packages/sklearn/linear_model/logistic.py:432: FutureWarning: Default solver will be changed to 'lbfgs' in 0.22. Specify a solver to silence this warning.\n",
      "  FutureWarning)\n",
      "/usr/local/lib/python3.6/dist-packages/sklearn/linear_model/logistic.py:432: FutureWarning: Default solver will be changed to 'lbfgs' in 0.22. Specify a solver to silence this warning.\n",
      "  FutureWarning)\n",
      "/usr/local/lib/python3.6/dist-packages/sklearn/linear_model/logistic.py:432: FutureWarning: Default solver will be changed to 'lbfgs' in 0.22. Specify a solver to silence this warning.\n",
      "  FutureWarning)\n",
      "/usr/local/lib/python3.6/dist-packages/sklearn/linear_model/logistic.py:432: FutureWarning: Default solver will be changed to 'lbfgs' in 0.22. Specify a solver to silence this warning.\n",
      "  FutureWarning)\n",
      "/usr/local/lib/python3.6/dist-packages/sklearn/linear_model/logistic.py:432: FutureWarning: Default solver will be changed to 'lbfgs' in 0.22. Specify a solver to silence this warning.\n",
      "  FutureWarning)\n"
     ]
    },
    {
     "data": {
      "text/plain": [
       "array([0.26280992, 0.88099174, 0.30071625, 0.38369146, 0.36808464])"
      ]
     },
     "execution_count": 14,
     "metadata": {},
     "output_type": "execute_result"
    }
   ],
   "source": [
    "cv_results = cross_val_score(lr, X, y, cv=5) \n",
    "cv_results"
   ]
  },
  {
   "cell_type": "code",
   "execution_count": 15,
   "metadata": {},
   "outputs": [
    {
     "data": {
      "text/plain": [
       "<matplotlib.collections.PathCollection at 0x7f03251c8c18>"
      ]
     },
     "execution_count": 15,
     "metadata": {},
     "output_type": "execute_result"
    },
    {
     "data": {
      "image/png": "[encoded data removed]",
      "text/plain": [
       "<Figure size 432x288 with 1 Axes>"
      ]
     },
     "metadata": {},
     "output_type": "display_data"
    }
   ],
   "source": [
    "prediction = lr.predict(X_test)\n",
    "x_plot = list(range(len(X_test)))\n",
    "plt.scatter(x_plot,prediction-y_test, label = 'prediction', alpha = 0.5)\n",
    "#plt.scatter(x_plot,y_test, label = 'test', alpha = 0.5)"
   ]
  },
  {
   "cell_type": "markdown",
   "metadata": {},
   "source": [
    "## Decision Tree Classifier"
   ]
  },
  {
   "cell_type": "code",
   "execution_count": 16,
   "metadata": {},
   "outputs": [
    {
     "name": "stdout",
     "output_type": "stream",
     "text": [
      "Decision Tree Test Accuracy 83.98%\n"
     ]
    }
   ],
   "source": [
    "from sklearn.tree import DecisionTreeClassifier\n",
    "dtc = tree.DecisionTreeClassifier()\n",
    "dtc.fit(X_train, y_train)\n",
    "\n",
    "acc_dtc = dtc.score(X_test, y_test)*100\n",
    "print(f\"Decision Tree Test Accuracy {round(acc_dtc, 2)}%\")\n",
    "\n",
    "acc_dict['Decision Tree Classifier'] = round(acc_dtc,2)"
   ]
  },
  {
   "cell_type": "code",
   "execution_count": 17,
   "metadata": {},
   "outputs": [
    {
     "data": {
      "image/png": "[encoded data removed]",
      "text/plain": [
       "<Figure size 432x288 with 1 Axes>"
      ]
     },
     "metadata": {},
     "output_type": "display_data"
    }
   ],
   "source": [
    "prediction = dtc.predict(X_test)\n",
    "plt.scatter(x_plot,prediction-y_test, label = 'prediction', alpha = 1)\n",
    "plt.legend()\n",
    "plt.show()"
   ]
  },
  {
   "cell_type": "code",
   "execution_count": 18,
   "metadata": {},
   "outputs": [
    {
     "data": {
      "text/plain": [
       "array([0.80220386, 0.83250689, 0.83955923, 0.84209366, 0.83436191])"
      ]
     },
     "execution_count": 18,
     "metadata": {},
     "output_type": "execute_result"
    }
   ],
   "source": [
    "cv_results = cross_val_score(dtc, X, y, cv=5) \n",
    "cv_results"
   ]
  },
  {
   "cell_type": "code",
   "execution_count": 19,
   "metadata": {},
   "outputs": [
    {
     "data": {
      "text/html": [
       "<div>\n",
       "<style scoped>\n",
       "    .dataframe tbody tr th:only-of-type {\n",
       "        vertical-align: middle;\n",
       "    }\n",
       "\n",
       "    .dataframe tbody tr th {\n",
       "        vertical-align: top;\n",
       "    }\n",
       "\n",
       "    .dataframe thead th {\n",
       "        text-align: right;\n",
       "    }\n",
       "</style>\n",
       "<table border=\"1\" class=\"dataframe\">\n",
       "  <thead>\n",
       "    <tr style=\"text-align: right;\">\n",
       "      <th></th>\n",
       "      <th>Predicted Not StwDev</th>\n",
       "      <th>Predicted StwDev</th>\n",
       "    </tr>\n",
       "  </thead>\n",
       "  <tbody>\n",
       "    <tr>\n",
       "      <td>True Not StwDev</td>\n",
       "      <td>9537</td>\n",
       "      <td>1101</td>\n",
       "    </tr>\n",
       "    <tr>\n",
       "      <td>True StwDev</td>\n",
       "      <td>1080</td>\n",
       "      <td>1895</td>\n",
       "    </tr>\n",
       "  </tbody>\n",
       "</table>\n",
       "</div>"
      ],
      "text/plain": [
       "                 Predicted Not StwDev  Predicted StwDev\n",
       "True Not StwDev                  9537              1101\n",
       "True StwDev                      1080              1895"
      ]
     },
     "execution_count": 19,
     "metadata": {},
     "output_type": "execute_result"
    }
   ],
   "source": [
    "from sklearn.metrics import confusion_matrix\n",
    "\n",
    "pd.DataFrame(\n",
    "    confusion_matrix(y_test, prediction),\n",
    "    columns=['Predicted Not StwDev', 'Predicted StwDev'],\n",
    "    index=['True Not StwDev', 'True StwDev'])"
   ]
  },
  {
   "cell_type": "raw",
   "metadata": {},
   "source": [
    "from sklearn.tree import DecisionTreeClassifier\n",
    "from sklearn.metrics import roc_auc_score\n",
    "\n",
    "param_grid = {,  \n",
    "              }\n",
    "\n",
    "tree = GridSearchCV(DecisionTreeClassifier(), param_grid)\n",
    "\n",
    "tree.fit(X_train, y_train)\n",
    "tree_preds = tree.predict_proba(X_test)[:, 1]\n",
    "tree_performance = roc_auc_score(y_test, tree_preds)\n",
    "\n",
    "print (f'DecisionTree: Area under the ROC curve = {tree_performance}')\n"
   ]
  },
  {
   "cell_type": "raw",
   "metadata": {},
   "source": [
    "tree.best_params_"
   ]
  },
  {
   "cell_type": "raw",
   "metadata": {},
   "source": [
    "criterion=’gini’, splitter=’best’, max_depth=None, min_samples_split=2, min_samples_leaf=1, min_weight_fraction_leaf=0.0, max_features=None, random_state=None, max_leaf_nodes=None, min_impurity_decrease=0.0, min_impurity_split=None, class_weight=None, presort=False"
   ]
  },
  {
   "cell_type": "code",
   "execution_count": 20,
   "metadata": {},
   "outputs": [
    {
     "name": "stdout",
     "output_type": "stream",
     "text": [
      "Decision Tree Test Accuracy 88.63%\n"
     ]
    }
   ],
   "source": [
    "from sklearn.tree import DecisionTreeClassifier\n",
    "dtc = DecisionTreeClassifier(max_depth=9, min_samples_leaf=5, min_samples_split=3,\n",
    "                            min_impurity_decrease=1e-07, )\n",
    "dtc.fit(X_train, y_train)\n",
    "\n",
    "acc_dtc = dtc.score(X_test, y_test)*100\n",
    "print(f\"Decision Tree Test Accuracy {round(acc_dtc, 2)}%\")\n",
    "\n",
    "acc_dict['Decision Tree Classifier'] = round(acc_dtc,2)"
   ]
  },
  {
   "cell_type": "code",
   "execution_count": 21,
   "metadata": {},
   "outputs": [
    {
     "data": {
      "image/png": "[encoded data removed]",
      "text/plain": [
       "<Figure size 432x288 with 1 Axes>"
      ]
     },
     "metadata": {},
     "output_type": "display_data"
    }
   ],
   "source": [
    "prediction = dtc.predict(X_test)\n",
    "plt.scatter(x_plot,prediction-y_test, label = 'prediction', alpha = 1)\n",
    "plt.legend()\n",
    "plt.show()"
   ]
  },
  {
   "cell_type": "code",
   "execution_count": 22,
   "metadata": {},
   "outputs": [
    {
     "data": {
      "text/plain": [
       "array([0.86787879, 0.88958678, 0.89013774, 0.88705234, 0.88428477])"
      ]
     },
     "execution_count": 22,
     "metadata": {},
     "output_type": "execute_result"
    }
   ],
   "source": [
    "cv_results = cross_val_score(dtc, X, y, cv=5) \n",
    "cv_results"
   ]
  },
  {
   "cell_type": "code",
   "execution_count": 23,
   "metadata": {},
   "outputs": [
    {
     "data": {
      "text/html": [
       "<div>\n",
       "<style scoped>\n",
       "    .dataframe tbody tr th:only-of-type {\n",
       "        vertical-align: middle;\n",
       "    }\n",
       "\n",
       "    .dataframe tbody tr th {\n",
       "        vertical-align: top;\n",
       "    }\n",
       "\n",
       "    .dataframe thead th {\n",
       "        text-align: right;\n",
       "    }\n",
       "</style>\n",
       "<table border=\"1\" class=\"dataframe\">\n",
       "  <thead>\n",
       "    <tr style=\"text-align: right;\">\n",
       "      <th></th>\n",
       "      <th>Predicted Not StwDev</th>\n",
       "      <th>Predicted StwDev</th>\n",
       "    </tr>\n",
       "  </thead>\n",
       "  <tbody>\n",
       "    <tr>\n",
       "      <td>True Not StwDev</td>\n",
       "      <td>9977</td>\n",
       "      <td>661</td>\n",
       "    </tr>\n",
       "    <tr>\n",
       "      <td>True StwDev</td>\n",
       "      <td>887</td>\n",
       "      <td>2088</td>\n",
       "    </tr>\n",
       "  </tbody>\n",
       "</table>\n",
       "</div>"
      ],
      "text/plain": [
       "                 Predicted Not StwDev  Predicted StwDev\n",
       "True Not StwDev                  9977               661\n",
       "True StwDev                       887              2088"
      ]
     },
     "execution_count": 23,
     "metadata": {},
     "output_type": "execute_result"
    }
   ],
   "source": [
    "from sklearn.metrics import confusion_matrix\n",
    "\n",
    "pd.DataFrame(\n",
    "    confusion_matrix(y_test, prediction),\n",
    "    columns=['Predicted Not StwDev', 'Predicted StwDev'],\n",
    "    index=['True Not StwDev', 'True StwDev'])"
   ]
  },
  {
   "cell_type": "code",
   "execution_count": 24,
   "metadata": {},
   "outputs": [],
   "source": [
    "from sklearn.tree.export import export_text\n",
    "r = export_text(dtc, feature_names=list(X.columns), )"
   ]
  },
  {
   "cell_type": "code",
   "execution_count": 25,
   "metadata": {
    "scrolled": true
   },
   "outputs": [
    {
     "name": "stdout",
     "output_type": "stream",
     "text": [
      "|--- months_programming <= 12.50\n",
      "|   |--- months_programming <= 6.50\n",
      "|   |   |--- full_stack_wd <= 0.50\n",
      "|   |   |   |--- attended_bootcamp <= 0.50\n",
      "|   |   |   |   |--- months_programming <= 3.50\n",
      "|   |   |   |   |   |--- front_end_wd <= 0.50\n",
      "|   |   |   |   |   |   |--- online_resources <= 3.50\n",
      "|   |   |   |   |   |   |   |--- months_programming <= 1.50\n",
      "|   |   |   |   |   |   |   |   |--- inperson_events <= 0.50\n",
      "|   |   |   |   |   |   |   |   |   |--- class: 0\n",
      "|   |   |   |   |   |   |   |   |--- inperson_events >  0.50\n",
      "|   |   |   |   |   |   |   |   |   |--- class: 0\n",
      "|   |   |   |   |   |   |   |--- months_programming >  1.50\n",
      "|   |   |   |   |   |   |   |   |--- age <= 32.50\n",
      "|   |   |   |   |   |   |   |   |   |--- class: 0\n",
      "|   |   |   |   |   |   |   |   |--- age >  32.50\n",
      "|   |   |   |   |   |   |   |   |   |--- class: 0\n",
      "|   |   |   |   |   |   |--- online_resources >  3.50\n",
      "|   |   |   |   |   |   |   |--- months_programming <= 0.50\n",
      "|   |   |   |   |   |   |   |   |--- coding_expenses <= 0.02\n",
      "|   |   |   |   |   |   |   |   |   |--- class: 0\n",
      "|   |   |   |   |   |   |   |   |--- coding_expenses >  0.02\n",
      "|   |   |   |   |   |   |   |   |   |--- class: 0\n",
      "|   |   |   |   |   |   |   |--- months_programming >  0.50\n",
      "|   |   |   |   |   |   |   |   |--- months_programming <= 2.50\n",
      "|   |   |   |   |   |   |   |   |   |--- class: 0\n",
      "|   |   |   |   |   |   |   |   |--- months_programming >  2.50\n",
      "|   |   |   |   |   |   |   |   |   |--- class: 0\n",
      "|   |   |   |   |   |--- front_end_wd >  0.50\n",
      "|   |   |   |   |   |   |--- class: 0\n",
      "|   |   |   |   |--- months_programming >  3.50\n",
      "|   |   |   |   |   |--- front_end_wd <= 0.50\n",
      "|   |   |   |   |   |   |--- employment <= 0.50\n",
      "|   |   |   |   |   |   |   |--- youtube <= 6.50\n",
      "|   |   |   |   |   |   |   |   |--- online_resources <= 2.50\n",
      "|   |   |   |   |   |   |   |   |   |--- class: 0\n",
      "|   |   |   |   |   |   |   |   |--- online_resources >  2.50\n",
      "|   |   |   |   |   |   |   |   |   |--- class: 0\n",
      "|   |   |   |   |   |   |   |--- youtube >  6.50\n",
      "|   |   |   |   |   |   |   |   |--- age <= 19.50\n",
      "|   |   |   |   |   |   |   |   |   |--- class: 0\n",
      "|   |   |   |   |   |   |   |   |--- age >  19.50\n",
      "|   |   |   |   |   |   |   |   |   |--- class: 1\n",
      "|   |   |   |   |   |   |--- employment >  0.50\n",
      "|   |   |   |   |   |   |   |--- age <= 24.50\n",
      "|   |   |   |   |   |   |   |   |--- gender_male <= 0.50\n",
      "|   |   |   |   |   |   |   |   |   |--- class: 0\n",
      "|   |   |   |   |   |   |   |   |--- gender_male >  0.50\n",
      "|   |   |   |   |   |   |   |   |   |--- class: 0\n",
      "|   |   |   |   |   |   |   |--- age >  24.50\n",
      "|   |   |   |   |   |   |   |   |--- inperson_events <= 1.50\n",
      "|   |   |   |   |   |   |   |   |   |--- class: 0\n",
      "|   |   |   |   |   |   |   |   |--- inperson_events >  1.50\n",
      "|   |   |   |   |   |   |   |   |   |--- class: 0\n",
      "|   |   |   |   |   |--- front_end_wd >  0.50\n",
      "|   |   |   |   |   |   |--- class: 0\n",
      "|   |   |   |--- attended_bootcamp >  0.50\n",
      "|   |   |   |   |--- employment <= 0.50\n",
      "|   |   |   |   |   |--- age <= 26.50\n",
      "|   |   |   |   |   |   |--- podcasts <= 0.50\n",
      "|   |   |   |   |   |   |   |--- coding_expenses <= 0.00\n",
      "|   |   |   |   |   |   |   |   |--- age <= 22.00\n",
      "|   |   |   |   |   |   |   |   |   |--- class: 0\n",
      "|   |   |   |   |   |   |   |   |--- age >  22.00\n",
      "|   |   |   |   |   |   |   |   |   |--- class: 0\n",
      "|   |   |   |   |   |   |   |--- coding_expenses >  0.00\n",
      "|   |   |   |   |   |   |   |   |--- class: 0\n",
      "|   |   |   |   |   |   |--- podcasts >  0.50\n",
      "|   |   |   |   |   |   |   |--- front_end_wd <= 0.50\n",
      "|   |   |   |   |   |   |   |   |--- inperson_events <= 2.50\n",
      "|   |   |   |   |   |   |   |   |   |--- class: 0\n",
      "|   |   |   |   |   |   |   |   |--- inperson_events >  2.50\n",
      "|   |   |   |   |   |   |   |   |   |--- class: 1\n",
      "|   |   |   |   |   |   |   |--- front_end_wd >  0.50\n",
      "|   |   |   |   |   |   |   |   |--- class: 0\n",
      "|   |   |   |   |   |--- age >  26.50\n",
      "|   |   |   |   |   |   |--- coding_expenses <= 0.63\n",
      "|   |   |   |   |   |   |   |--- class: 0\n",
      "|   |   |   |   |   |   |--- coding_expenses >  0.63\n",
      "|   |   |   |   |   |   |   |--- months_programming <= 3.50\n",
      "|   |   |   |   |   |   |   |   |--- class: 0\n",
      "|   |   |   |   |   |   |   |--- months_programming >  3.50\n",
      "|   |   |   |   |   |   |   |   |--- class: 0\n",
      "|   |   |   |   |--- employment >  0.50\n",
      "|   |   |   |   |   |--- front_end_wd <= 0.50\n",
      "|   |   |   |   |   |   |--- months_programming <= 1.50\n",
      "|   |   |   |   |   |   |   |--- months_programming <= 0.50\n",
      "|   |   |   |   |   |   |   |   |--- coding_expenses <= 0.01\n",
      "|   |   |   |   |   |   |   |   |   |--- class: 0\n",
      "|   |   |   |   |   |   |   |   |--- coding_expenses >  0.01\n",
      "|   |   |   |   |   |   |   |   |   |--- class: 1\n",
      "|   |   |   |   |   |   |   |--- months_programming >  0.50\n",
      "|   |   |   |   |   |   |   |   |--- age <= 24.00\n",
      "|   |   |   |   |   |   |   |   |   |--- class: 0\n",
      "|   |   |   |   |   |   |   |   |--- age >  24.00\n",
      "|   |   |   |   |   |   |   |   |   |--- class: 0\n",
      "|   |   |   |   |   |   |--- months_programming >  1.50\n",
      "|   |   |   |   |   |   |   |--- back_end_wd <= 0.50\n",
      "|   |   |   |   |   |   |   |   |--- age <= 30.50\n",
      "|   |   |   |   |   |   |   |   |   |--- class: 1\n",
      "|   |   |   |   |   |   |   |   |--- age >  30.50\n",
      "|   |   |   |   |   |   |   |   |   |--- class: 0\n",
      "|   |   |   |   |   |   |   |--- back_end_wd >  0.50\n",
      "|   |   |   |   |   |   |   |   |--- class: 0\n",
      "|   |   |   |   |   |--- front_end_wd >  0.50\n",
      "|   |   |   |   |   |   |--- class: 0\n",
      "|   |   |--- full_stack_wd >  0.50\n",
      "|   |   |   |--- class: 0\n",
      "|   |--- months_programming >  6.50\n",
      "|   |   |--- full_stack_wd <= 0.50\n",
      "|   |   |   |--- employment <= 0.50\n",
      "|   |   |   |   |--- front_end_wd <= 0.50\n",
      "|   |   |   |   |   |--- coding_expenses <= 0.27\n",
      "|   |   |   |   |   |   |--- age <= 19.50\n",
      "|   |   |   |   |   |   |   |--- podcasts <= 2.50\n",
      "|   |   |   |   |   |   |   |   |--- online_resources <= 12.00\n",
      "|   |   |   |   |   |   |   |   |   |--- class: 0\n",
      "|   |   |   |   |   |   |   |   |--- online_resources >  12.00\n",
      "|   |   |   |   |   |   |   |   |   |--- class: 0\n",
      "|   |   |   |   |   |   |   |--- podcasts >  2.50\n",
      "|   |   |   |   |   |   |   |   |--- class: 0\n",
      "|   |   |   |   |   |   |--- age >  19.50\n",
      "|   |   |   |   |   |   |   |--- age <= 29.50\n",
      "|   |   |   |   |   |   |   |   |--- attended_bootcamp <= 0.50\n",
      "|   |   |   |   |   |   |   |   |   |--- class: 0\n",
      "|   |   |   |   |   |   |   |   |--- attended_bootcamp >  0.50\n",
      "|   |   |   |   |   |   |   |   |   |--- class: 0\n",
      "|   |   |   |   |   |   |   |--- age >  29.50\n",
      "|   |   |   |   |   |   |   |   |--- age <= 48.50\n",
      "|   |   |   |   |   |   |   |   |   |--- class: 0\n",
      "|   |   |   |   |   |   |   |   |--- age >  48.50\n",
      "|   |   |   |   |   |   |   |   |   |--- class: 0\n",
      "|   |   |   |   |   |--- coding_expenses >  0.27\n",
      "|   |   |   |   |   |   |--- game_dev <= 0.50\n",
      "|   |   |   |   |   |   |   |--- age <= 26.00\n",
      "|   |   |   |   |   |   |   |   |--- age <= 22.50\n",
      "|   |   |   |   |   |   |   |   |   |--- class: 1\n",
      "|   |   |   |   |   |   |   |   |--- age >  22.50\n",
      "|   |   |   |   |   |   |   |   |   |--- class: 1\n",
      "|   |   |   |   |   |   |   |--- age >  26.00\n",
      "|   |   |   |   |   |   |   |   |--- class: 0\n",
      "|   |   |   |   |   |   |--- game_dev >  0.50\n",
      "|   |   |   |   |   |   |   |--- podcasts <= 0.50\n",
      "|   |   |   |   |   |   |   |   |--- class: 0\n",
      "|   |   |   |   |   |   |   |--- podcasts >  0.50\n",
      "|   |   |   |   |   |   |   |   |--- class: 0\n",
      "|   |   |   |   |--- front_end_wd >  0.50\n",
      "|   |   |   |   |   |--- class: 0\n",
      "|   |   |   |--- employment >  0.50\n",
      "|   |   |   |   |--- front_end_wd <= 0.50\n",
      "|   |   |   |   |   |--- age <= 27.50\n",
      "|   |   |   |   |   |   |--- back_end_wd <= 0.50\n",
      "|   |   |   |   |   |   |   |--- age <= 19.50\n",
      "|   |   |   |   |   |   |   |   |--- age <= 18.50\n",
      "|   |   |   |   |   |   |   |   |   |--- class: 0\n",
      "|   |   |   |   |   |   |   |   |--- age >  18.50\n",
      "|   |   |   |   |   |   |   |   |   |--- class: 0\n",
      "|   |   |   |   |   |   |   |--- age >  19.50\n",
      "|   |   |   |   |   |   |   |   |--- mobile_dev <= 0.50\n",
      "|   |   |   |   |   |   |   |   |   |--- class: 1\n",
      "|   |   |   |   |   |   |   |   |--- mobile_dev >  0.50\n",
      "|   |   |   |   |   |   |   |   |   |--- class: 0\n",
      "|   |   |   |   |   |   |--- back_end_wd >  0.50\n",
      "|   |   |   |   |   |   |   |--- class: 0\n",
      "|   |   |   |   |   |--- age >  27.50\n",
      "|   |   |   |   |   |   |--- attended_bootcamp <= 0.50\n",
      "|   |   |   |   |   |   |   |--- back_end_wd <= 0.50\n",
      "|   |   |   |   |   |   |   |   |--- age <= 31.50\n",
      "|   |   |   |   |   |   |   |   |   |--- class: 0\n",
      "|   |   |   |   |   |   |   |   |--- age >  31.50\n",
      "|   |   |   |   |   |   |   |   |   |--- class: 0\n",
      "|   |   |   |   |   |   |   |--- back_end_wd >  0.50\n",
      "|   |   |   |   |   |   |   |   |--- class: 0\n",
      "|   |   |   |   |   |   |--- attended_bootcamp >  0.50\n",
      "|   |   |   |   |   |   |   |--- online_resources <= 1.50\n",
      "|   |   |   |   |   |   |   |   |--- debt <= 0.50\n",
      "|   |   |   |   |   |   |   |   |   |--- class: 0\n",
      "|   |   |   |   |   |   |   |   |--- debt >  0.50\n",
      "|   |   |   |   |   |   |   |   |   |--- class: 0\n",
      "|   |   |   |   |   |   |   |--- online_resources >  1.50\n",
      "|   |   |   |   |   |   |   |   |--- inperson_events <= 0.50\n",
      "|   |   |   |   |   |   |   |   |   |--- class: 0\n",
      "|   |   |   |   |   |   |   |   |--- inperson_events >  0.50\n",
      "|   |   |   |   |   |   |   |   |   |--- class: 1\n",
      "|   |   |   |   |--- front_end_wd >  0.50\n",
      "|   |   |   |   |   |--- class: 0\n",
      "|   |   |--- full_stack_wd >  0.50\n",
      "|   |   |   |--- class: 0\n",
      "|--- months_programming >  12.50\n",
      "|   |--- full_stack_wd <= 0.50\n",
      "|   |   |--- employment <= 0.50\n",
      "|   |   |   |--- age <= 23.50\n",
      "|   |   |   |   |--- back_end_wd <= 0.50\n",
      "|   |   |   |   |   |--- inperson_events <= 2.50\n",
      "|   |   |   |   |   |   |--- age <= 19.50\n",
      "|   |   |   |   |   |   |   |--- employment <= -0.50\n",
      "|   |   |   |   |   |   |   |   |--- class: 0\n",
      "|   |   |   |   |   |   |   |--- employment >  -0.50\n",
      "|   |   |   |   |   |   |   |   |--- months_programming <= 17.50\n",
      "|   |   |   |   |   |   |   |   |   |--- class: 0\n",
      "|   |   |   |   |   |   |   |   |--- months_programming >  17.50\n",
      "|   |   |   |   |   |   |   |   |   |--- class: 0\n",
      "|   |   |   |   |   |   |--- age >  19.50\n",
      "|   |   |   |   |   |   |   |--- front_end_wd <= 0.50\n",
      "|   |   |   |   |   |   |   |   |--- months_programming <= 25.50\n",
      "|   |   |   |   |   |   |   |   |   |--- class: 0\n",
      "|   |   |   |   |   |   |   |   |--- months_programming >  25.50\n",
      "|   |   |   |   |   |   |   |   |   |--- class: 0\n",
      "|   |   |   |   |   |   |   |--- front_end_wd >  0.50\n",
      "|   |   |   |   |   |   |   |   |--- class: 0\n",
      "|   |   |   |   |   |--- inperson_events >  2.50\n",
      "|   |   |   |   |   |   |--- coding_expenses <= 0.03\n",
      "|   |   |   |   |   |   |   |--- front_end_wd <= 0.50\n",
      "|   |   |   |   |   |   |   |   |--- months_programming <= 45.00\n",
      "|   |   |   |   |   |   |   |   |   |--- class: 0\n",
      "|   |   |   |   |   |   |   |   |--- months_programming >  45.00\n",
      "|   |   |   |   |   |   |   |   |   |--- class: 0\n",
      "|   |   |   |   |   |   |   |--- front_end_wd >  0.50\n",
      "|   |   |   |   |   |   |   |   |--- class: 0\n",
      "|   |   |   |   |   |   |--- coding_expenses >  0.03\n",
      "|   |   |   |   |   |   |   |--- youtube <= 2.50\n",
      "|   |   |   |   |   |   |   |   |--- class: 1\n",
      "|   |   |   |   |   |   |   |--- youtube >  2.50\n",
      "|   |   |   |   |   |   |   |   |--- class: 0\n",
      "|   |   |   |   |--- back_end_wd >  0.50\n",
      "|   |   |   |   |   |--- class: 0\n",
      "|   |   |   |--- age >  23.50\n",
      "|   |   |   |   |--- months_programming <= 49.50\n",
      "|   |   |   |   |   |--- front_end_wd <= 0.50\n",
      "|   |   |   |   |   |   |--- inperson_events <= 1.50\n",
      "|   |   |   |   |   |   |   |--- age <= 29.50\n",
      "|   |   |   |   |   |   |   |   |--- attended_bootcamp <= 0.50\n",
      "|   |   |   |   |   |   |   |   |   |--- class: 0\n",
      "|   |   |   |   |   |   |   |   |--- attended_bootcamp >  0.50\n",
      "|   |   |   |   |   |   |   |   |   |--- class: 1\n",
      "|   |   |   |   |   |   |   |--- age >  29.50\n",
      "|   |   |   |   |   |   |   |   |--- coding_expenses <= 0.04\n",
      "|   |   |   |   |   |   |   |   |   |--- class: 0\n",
      "|   |   |   |   |   |   |   |   |--- coding_expenses >  0.04\n",
      "|   |   |   |   |   |   |   |   |   |--- class: 0\n",
      "|   |   |   |   |   |   |--- inperson_events >  1.50\n",
      "|   |   |   |   |   |   |   |--- age <= 36.50\n",
      "|   |   |   |   |   |   |   |   |--- back_end_wd <= 0.50\n",
      "|   |   |   |   |   |   |   |   |   |--- class: 0\n",
      "|   |   |   |   |   |   |   |   |--- back_end_wd >  0.50\n",
      "|   |   |   |   |   |   |   |   |   |--- class: 0\n",
      "|   |   |   |   |   |   |   |--- age >  36.50\n",
      "|   |   |   |   |   |   |   |   |--- coding_expenses <= 0.05\n",
      "|   |   |   |   |   |   |   |   |   |--- class: 0\n",
      "|   |   |   |   |   |   |   |   |--- coding_expenses >  0.05\n",
      "|   |   |   |   |   |   |   |   |   |--- class: 0\n",
      "|   |   |   |   |   |--- front_end_wd >  0.50\n",
      "|   |   |   |   |   |   |--- class: 0\n",
      "|   |   |   |   |--- months_programming >  49.50\n",
      "|   |   |   |   |   |--- back_end_wd <= 0.50\n",
      "|   |   |   |   |   |   |--- front_end_wd <= 0.50\n",
      "|   |   |   |   |   |   |   |--- coding_expenses <= 0.01\n",
      "|   |   |   |   |   |   |   |   |--- online_resources <= 3.50\n",
      "|   |   |   |   |   |   |   |   |   |--- class: 1\n",
      "|   |   |   |   |   |   |   |   |--- online_resources >  3.50\n",
      "|   |   |   |   |   |   |   |   |   |--- class: 0\n",
      "|   |   |   |   |   |   |   |--- coding_expenses >  0.01\n",
      "|   |   |   |   |   |   |   |   |--- months_programming <= 76.00\n",
      "|   |   |   |   |   |   |   |   |   |--- class: 1\n",
      "|   |   |   |   |   |   |   |   |--- months_programming >  76.00\n",
      "|   |   |   |   |   |   |   |   |   |--- class: 1\n",
      "|   |   |   |   |   |   |--- front_end_wd >  0.50\n",
      "|   |   |   |   |   |   |   |--- class: 0\n",
      "|   |   |   |   |   |--- back_end_wd >  0.50\n",
      "|   |   |   |   |   |   |--- class: 0\n",
      "|   |   |--- employment >  0.50\n",
      "|   |   |   |--- front_end_wd <= 0.50\n",
      "|   |   |   |   |--- back_end_wd <= 0.50\n",
      "|   |   |   |   |   |--- months_programming <= 24.50\n",
      "|   |   |   |   |   |   |--- age <= 32.50\n",
      "|   |   |   |   |   |   |   |--- mobile_dev <= 0.50\n",
      "|   |   |   |   |   |   |   |   |--- age <= 19.50\n",
      "|   |   |   |   |   |   |   |   |   |--- class: 0\n",
      "|   |   |   |   |   |   |   |   |--- age >  19.50\n",
      "|   |   |   |   |   |   |   |   |   |--- class: 1\n",
      "|   |   |   |   |   |   |   |--- mobile_dev >  0.50\n",
      "|   |   |   |   |   |   |   |   |--- class: 0\n",
      "|   |   |   |   |   |   |--- age >  32.50\n",
      "|   |   |   |   |   |   |   |--- attended_bootcamp <= 0.50\n",
      "|   |   |   |   |   |   |   |   |--- hours_learning_week <= 3.50\n",
      "|   |   |   |   |   |   |   |   |   |--- class: 0\n",
      "|   |   |   |   |   |   |   |   |--- hours_learning_week >  3.50\n",
      "|   |   |   |   |   |   |   |   |   |--- class: 0\n",
      "|   |   |   |   |   |   |   |--- attended_bootcamp >  0.50\n",
      "|   |   |   |   |   |   |   |   |--- age <= 38.50\n",
      "|   |   |   |   |   |   |   |   |   |--- class: 1\n",
      "|   |   |   |   |   |   |   |   |--- age >  38.50\n",
      "|   |   |   |   |   |   |   |   |   |--- class: 1\n",
      "|   |   |   |   |   |--- months_programming >  24.50\n",
      "|   |   |   |   |   |   |--- devops <= 0.50\n",
      "|   |   |   |   |   |   |   |--- prod_manager <= 0.50\n",
      "|   |   |   |   |   |   |   |   |--- age <= 45.50\n",
      "|   |   |   |   |   |   |   |   |   |--- class: 1\n",
      "|   |   |   |   |   |   |   |   |--- age >  45.50\n",
      "|   |   |   |   |   |   |   |   |   |--- class: 0\n",
      "|   |   |   |   |   |   |   |--- prod_manager >  0.50\n",
      "|   |   |   |   |   |   |   |   |--- class: 0\n",
      "|   |   |   |   |   |   |--- devops >  0.50\n",
      "|   |   |   |   |   |   |   |--- class: 0\n",
      "|   |   |   |   |--- back_end_wd >  0.50\n",
      "|   |   |   |   |   |--- class: 0\n",
      "|   |   |   |--- front_end_wd >  0.50\n",
      "|   |   |   |   |--- class: 0\n",
      "|   |--- full_stack_wd >  0.50\n",
      "|   |   |--- class: 0\n",
      "\n"
     ]
    }
   ],
   "source": [
    "print (r)"
   ]
  },
  {
   "cell_type": "code",
   "execution_count": 26,
   "metadata": {},
   "outputs": [
    {
     "data": {
      "text/plain": [
       "Index(['is_sofw_dev', 'full_stack_wd', 'back_end_wd', 'front_end_wd',\n",
       "       'mobile_dev', 'devops', 'data_sc', 'qlty_eng', 'ux_designer',\n",
       "       'prod_manager', 'game_dev', 'inf_security', 'data_eng',\n",
       "       'hours_learning_week', 'months_programming', 'attended_bootcamp',\n",
       "       'coding_expenses', 'age', 'debt', 'employment', 'youtube',\n",
       "       'online_resources', 'inperson_events', 'podcasts', 'gender_female',\n",
       "       'gender_male', 'gender_other'],\n",
       "      dtype='object')"
      ]
     },
     "execution_count": 26,
     "metadata": {},
     "output_type": "execute_result"
    }
   ],
   "source": [
    "data.columns"
   ]
  },
  {
   "cell_type": "markdown",
   "metadata": {},
   "source": [
    "## Try #2"
   ]
  },
  {
   "cell_type": "code",
   "execution_count": 15,
   "metadata": {},
   "outputs": [
    {
     "name": "stdout",
     "output_type": "stream",
     "text": [
      "Class 0: 35535\n",
      "Class 1: 9839\n",
      "Proportion: 3.61 : 1\n"
     ]
    },
    {
     "data": {
      "image/png": "[encoded data removed]",
      "text/plain": [
       "<Figure size 432x288 with 1 Axes>"
      ]
     },
     "metadata": {},
     "output_type": "display_data"
    }
   ],
   "source": [
    "target_count = data.is_sofw_dev.value_counts()\n",
    "print('Class 0:', target_count[0])\n",
    "print('Class 1:', target_count[1])\n",
    "print('Proportion:', round(target_count[0] / target_count[1], 2), ': 1')\n",
    "\n",
    "target_count.plot(kind='bar', title='Count (target)');"
   ]
  },
  {
   "cell_type": "code",
   "execution_count": 16,
   "metadata": {},
   "outputs": [
    {
     "name": "stdout",
     "output_type": "stream",
     "text": [
      "Random under-sampling:\n",
      "1    9839\n",
      "0    9839\n",
      "Name: is_sofw_dev, dtype: int64\n"
     ]
    },
    {
     "data": {
      "image/png": "[encoded data removed]",
      "text/plain": [
       "<Figure size 432x288 with 1 Axes>"
      ]
     },
     "metadata": {},
     "output_type": "display_data"
    }
   ],
   "source": [
    "count_class_0, count_class_1 = data.is_sofw_dev.value_counts()\n",
    "df_class_0 = data[data['is_sofw_dev'] == 0]\n",
    "df_class_1 = data[data['is_sofw_dev'] == 1]\n",
    "\n",
    "df_class_0_under = df_class_0.sample(count_class_1)\n",
    "df_test_under = pd.concat([df_class_0_under, df_class_1], axis=0)\n",
    "\n",
    "print('Random under-sampling:')\n",
    "print(df_test_under.is_sofw_dev.value_counts())\n",
    "\n",
    "df_test_under.is_sofw_dev.value_counts().plot(kind='bar', title='Count (target)');"
   ]
  },
  {
   "cell_type": "code",
   "execution_count": 17,
   "metadata": {},
   "outputs": [],
   "source": [
    "data = df_test_under"
   ]
  },
  {
   "cell_type": "code",
   "execution_count": 18,
   "metadata": {},
   "outputs": [
    {
     "name": "stdout",
     "output_type": "stream",
     "text": [
      "Stored 'data_balanced' (DataFrame)\n"
     ]
    }
   ],
   "source": [
    "data_balanced = data.copy()\n",
    "%store data_balanced"
   ]
  },
  {
   "cell_type": "code",
   "execution_count": 21,
   "metadata": {},
   "outputs": [],
   "source": [
    "X1 = data.drop(columns={'is_sofw_dev','full_stack_wd', 'back_end_wd', 'front_end_wd',\n",
    "       'mobile_dev', 'devops', 'data_sc', 'qlty_eng', 'ux_designer',\n",
    "       'prod_manager', 'game_dev', 'inf_security', 'data_eng', 'debt'})\n",
    "y = data['is_sofw_dev']"
   ]
  },
  {
   "cell_type": "code",
   "execution_count": 3,
   "metadata": {},
   "outputs": [],
   "source": [
    "%store -r X_resampled\n",
    "%store -r y_resampled\n",
    "X = X_resampled\n",
    "y = y_resampled"
   ]
  },
  {
   "cell_type": "code",
   "execution_count": 4,
   "metadata": {},
   "outputs": [],
   "source": [
    "X_train, X_test, y_train, y_test = train_test_split(X, y, test_size = 0.3, random_state=29)"
   ]
  },
  {
   "cell_type": "code",
   "execution_count": 5,
   "metadata": {},
   "outputs": [
    {
     "data": {
      "text/plain": [
       "(19678, 13)"
      ]
     },
     "execution_count": 5,
     "metadata": {},
     "output_type": "execute_result"
    }
   ],
   "source": [
    "X.shape"
   ]
  },
  {
   "cell_type": "code",
   "execution_count": 7,
   "metadata": {},
   "outputs": [
    {
     "name": "stderr",
     "output_type": "stream",
     "text": [
      "/usr/local/lib/python3.6/dist-packages/sklearn/model_selection/_split.py:1978: FutureWarning: The default value of cv will change from 3 to 5 in version 0.22. Specify it explicitly to silence this warning.\n",
      "  warnings.warn(CV_WARNING, FutureWarning)\n"
     ]
    },
    {
     "name": "stdout",
     "output_type": "stream",
     "text": [
      "DecisionTree: Area under the ROC curve = 0.8604435812400307\n"
     ]
    }
   ],
   "source": [
    "from sklearn.tree import DecisionTreeClassifier\n",
    "from sklearn.metrics import roc_auc_score\n",
    "\n",
    "param_grid = {'max_depth': np.arange(2,12), \n",
    "              'min_samples_split': np.arange(2,10), \n",
    "              'min_samples_leaf': np.arange(1,10),  \n",
    "              }\n",
    "\n",
    "tree = GridSearchCV(DecisionTreeClassifier(), param_grid)\n",
    "\n",
    "tree.fit(X_train, y_train)\n",
    "tree_preds = tree.predict_proba(X_test)[:, 1]\n",
    "tree_performance = roc_auc_score(y_test, tree_preds)\n",
    "\n",
    "print (f'DecisionTree: Area under the ROC curve = {tree_performance}')\n"
   ]
  },
  {
   "cell_type": "code",
   "execution_count": 8,
   "metadata": {},
   "outputs": [
    {
     "data": {
      "text/plain": [
       "{'max_depth': 6, 'min_samples_leaf': 8, 'min_samples_split': 2}"
      ]
     },
     "execution_count": 8,
     "metadata": {},
     "output_type": "execute_result"
    }
   ],
   "source": [
    "tree.best_params_"
   ]
  },
  {
   "cell_type": "code",
   "execution_count": 9,
   "metadata": {},
   "outputs": [
    {
     "data": {
      "text/plain": [
       "0.7933788296791056"
      ]
     },
     "execution_count": 9,
     "metadata": {},
     "output_type": "execute_result"
    }
   ],
   "source": [
    "tree.best_score_"
   ]
  },
  {
   "cell_type": "code",
   "execution_count": 10,
   "metadata": {
    "scrolled": false
   },
   "outputs": [
    {
     "name": "stdout",
     "output_type": "stream",
     "text": [
      "Decision Tree Test Accuracy 79.73%\n"
     ]
    }
   ],
   "source": [
    "from sklearn.tree import DecisionTreeClassifier\n",
    "dtc = DecisionTreeClassifier(max_depth=6, min_samples_leaf=8, min_samples_split=2)\n",
    "dtc.fit(X_train, y_train)\n",
    "\n",
    "acc_dtc = dtc.score(X_test, y_test)*100\n",
    "print(f\"Decision Tree Test Accuracy {round(acc_dtc, 2)}%\")\n",
    "\n",
    "#acc_dict['Decision Tree Classifier'] = round(acc_dtc,2)"
   ]
  },
  {
   "cell_type": "code",
   "execution_count": 11,
   "metadata": {},
   "outputs": [
    {
     "data": {
      "text/plain": [
       "80.23086975461014"
      ]
     },
     "execution_count": 11,
     "metadata": {},
     "output_type": "execute_result"
    }
   ],
   "source": [
    "dtc.score(X_train, y_train)*100"
   ]
  },
  {
   "cell_type": "code",
   "execution_count": 14,
   "metadata": {
    "scrolled": false
   },
   "outputs": [
    {
     "data": {
      "text/plain": [
       "79.72657585807237"
      ]
     },
     "execution_count": 14,
     "metadata": {},
     "output_type": "execute_result"
    }
   ],
   "source": [
    "roc_auc_score(y_test, prediction)*100"
   ]
  },
  {
   "cell_type": "code",
   "execution_count": 13,
   "metadata": {},
   "outputs": [
    {
     "data": {
      "image/png": "[encoded data removed]",
      "text/plain": [
       "<Figure size 432x288 with 1 Axes>"
      ]
     },
     "metadata": {},
     "output_type": "display_data"
    }
   ],
   "source": [
    "x_plot = list(range(len(X_test)))\n",
    "prediction = dtc.predict(X_test)\n",
    "plt.scatter(x_plot,prediction-y_test, label = 'prediction', alpha = 1)\n",
    "plt.show()"
   ]
  },
  {
   "cell_type": "code",
   "execution_count": 15,
   "metadata": {},
   "outputs": [
    {
     "data": {
      "text/html": [
       "<div>\n",
       "<style scoped>\n",
       "    .dataframe tbody tr th:only-of-type {\n",
       "        vertical-align: middle;\n",
       "    }\n",
       "\n",
       "    .dataframe tbody tr th {\n",
       "        vertical-align: top;\n",
       "    }\n",
       "\n",
       "    .dataframe thead th {\n",
       "        text-align: right;\n",
       "    }\n",
       "</style>\n",
       "<table border=\"1\" class=\"dataframe\">\n",
       "  <thead>\n",
       "    <tr style=\"text-align: right;\">\n",
       "      <th></th>\n",
       "      <th>Predicted Not StwDev</th>\n",
       "      <th>Predicted StwDev</th>\n",
       "    </tr>\n",
       "  </thead>\n",
       "  <tbody>\n",
       "    <tr>\n",
       "      <td>True Not StwDev</td>\n",
       "      <td>2394</td>\n",
       "      <td>556</td>\n",
       "    </tr>\n",
       "    <tr>\n",
       "      <td>True StwDev</td>\n",
       "      <td>641</td>\n",
       "      <td>2313</td>\n",
       "    </tr>\n",
       "  </tbody>\n",
       "</table>\n",
       "</div>"
      ],
      "text/plain": [
       "                 Predicted Not StwDev  Predicted StwDev\n",
       "True Not StwDev                  2394               556\n",
       "True StwDev                       641              2313"
      ]
     },
     "execution_count": 15,
     "metadata": {},
     "output_type": "execute_result"
    }
   ],
   "source": [
    "from sklearn.metrics import confusion_matrix\n",
    "\n",
    "cm = pd.DataFrame(\n",
    "    confusion_matrix(y_test, prediction),\n",
    "    columns=['Predicted Not StwDev', 'Predicted StwDev'],\n",
    "    index=['True Not StwDev', 'True StwDev'])\n",
    "\n",
    "cm"
   ]
  },
  {
   "cell_type": "code",
   "execution_count": 16,
   "metadata": {},
   "outputs": [
    {
     "data": {
      "text/plain": [
       "<matplotlib.axes._subplots.AxesSubplot at 0x7ffa00e427b8>"
      ]
     },
     "execution_count": 16,
     "metadata": {},
     "output_type": "execute_result"
    },
    {
     "data": {
      "image/png": "[encoded data removed]",
      "text/plain": [
       "<Figure size 432x288 with 2 Axes>"
      ]
     },
     "metadata": {},
     "output_type": "display_data"
    }
   ],
   "source": [
    "sns.heatmap(cm,cmap=\"YlGnBu\", annot=True, fmt='g')"
   ]
  },
  {
   "cell_type": "code",
   "execution_count": 23,
   "metadata": {},
   "outputs": [],
   "source": [
    "from sklearn.tree.export import export_text\n",
    "r = export_text(dtc, feature_names=list(X1.columns))"
   ]
  },
  {
   "cell_type": "code",
   "execution_count": 24,
   "metadata": {
    "scrolled": false
   },
   "outputs": [
    {
     "name": "stdout",
     "output_type": "stream",
     "text": [
      "|--- months_programming <= 7.50\n",
      "|   |--- months_programming <= 3.50\n",
      "|   |   |--- employment <= 0.50\n",
      "|   |   |   |--- inperson_events <= 0.50\n",
      "|   |   |   |   |--- podcasts <= 1.50\n",
      "|   |   |   |   |   |--- online_resources <= 4.50\n",
      "|   |   |   |   |   |   |--- class: 0\n",
      "|   |   |   |   |   |--- online_resources >  4.50\n",
      "|   |   |   |   |   |   |--- class: 0\n",
      "|   |   |   |   |--- podcasts >  1.50\n",
      "|   |   |   |   |   |--- class: 0\n",
      "|   |   |   |--- inperson_events >  0.50\n",
      "|   |   |   |   |--- employment <= -0.50\n",
      "|   |   |   |   |   |--- hours_learning_week <= 9.00\n",
      "|   |   |   |   |   |   |--- class: 0\n",
      "|   |   |   |   |   |--- hours_learning_week >  9.00\n",
      "|   |   |   |   |   |   |--- class: 0\n",
      "|   |   |   |   |--- employment >  -0.50\n",
      "|   |   |   |   |   |--- gender_female <= 0.50\n",
      "|   |   |   |   |   |   |--- class: 0\n",
      "|   |   |   |   |   |--- gender_female >  0.50\n",
      "|   |   |   |   |   |   |--- class: 0\n",
      "|   |   |--- employment >  0.50\n",
      "|   |   |   |--- attended_bootcamp <= 0.50\n",
      "|   |   |   |   |--- online_resources <= 3.50\n",
      "|   |   |   |   |   |--- age <= 33.50\n",
      "|   |   |   |   |   |   |--- class: 0\n",
      "|   |   |   |   |   |--- age >  33.50\n",
      "|   |   |   |   |   |   |--- class: 0\n",
      "|   |   |   |   |--- online_resources >  3.50\n",
      "|   |   |   |   |   |--- months_programming <= 0.50\n",
      "|   |   |   |   |   |   |--- class: 0\n",
      "|   |   |   |   |   |--- months_programming >  0.50\n",
      "|   |   |   |   |   |   |--- class: 0\n",
      "|   |   |   |--- attended_bootcamp >  0.50\n",
      "|   |   |   |   |--- hours_learning_week <= 11.00\n",
      "|   |   |   |   |   |--- online_resources <= 3.50\n",
      "|   |   |   |   |   |   |--- class: 1\n",
      "|   |   |   |   |   |--- online_resources >  3.50\n",
      "|   |   |   |   |   |   |--- class: 1\n",
      "|   |   |   |   |--- hours_learning_week >  11.00\n",
      "|   |   |   |   |   |--- months_programming <= 2.50\n",
      "|   |   |   |   |   |   |--- class: 0\n",
      "|   |   |   |   |   |--- months_programming >  2.50\n",
      "|   |   |   |   |   |   |--- class: 1\n",
      "|   |--- months_programming >  3.50\n",
      "|   |   |--- employment <= 0.50\n",
      "|   |   |   |--- online_resources <= 2.50\n",
      "|   |   |   |   |--- hours_learning_week <= 2.50\n",
      "|   |   |   |   |   |--- hours_learning_week <= 0.50\n",
      "|   |   |   |   |   |   |--- class: 0\n",
      "|   |   |   |   |   |--- hours_learning_week >  0.50\n",
      "|   |   |   |   |   |   |--- class: 1\n",
      "|   |   |   |   |--- hours_learning_week >  2.50\n",
      "|   |   |   |   |   |--- hours_learning_week <= 18.00\n",
      "|   |   |   |   |   |   |--- class: 0\n",
      "|   |   |   |   |   |--- hours_learning_week >  18.00\n",
      "|   |   |   |   |   |   |--- class: 0\n",
      "|   |   |   |--- online_resources >  2.50\n",
      "|   |   |   |   |--- youtube <= 6.50\n",
      "|   |   |   |   |   |--- age <= 31.50\n",
      "|   |   |   |   |   |   |--- class: 0\n",
      "|   |   |   |   |   |--- age >  31.50\n",
      "|   |   |   |   |   |   |--- class: 0\n",
      "|   |   |   |   |--- youtube >  6.50\n",
      "|   |   |   |   |   |--- class: 0\n",
      "|   |   |--- employment >  0.50\n",
      "|   |   |   |--- age <= 24.50\n",
      "|   |   |   |   |--- months_programming <= 4.50\n",
      "|   |   |   |   |   |--- coding_expenses <= 175.00\n",
      "|   |   |   |   |   |   |--- class: 1\n",
      "|   |   |   |   |   |--- coding_expenses >  175.00\n",
      "|   |   |   |   |   |   |--- class: 0\n",
      "|   |   |   |   |--- months_programming >  4.50\n",
      "|   |   |   |   |   |--- inperson_events <= 1.50\n",
      "|   |   |   |   |   |   |--- class: 1\n",
      "|   |   |   |   |   |--- inperson_events >  1.50\n",
      "|   |   |   |   |   |   |--- class: 1\n",
      "|   |   |   |--- age >  24.50\n",
      "|   |   |   |   |--- attended_bootcamp <= 0.50\n",
      "|   |   |   |   |   |--- inperson_events <= 1.50\n",
      "|   |   |   |   |   |   |--- class: 0\n",
      "|   |   |   |   |   |--- inperson_events >  1.50\n",
      "|   |   |   |   |   |   |--- class: 0\n",
      "|   |   |   |   |--- attended_bootcamp >  0.50\n",
      "|   |   |   |   |   |--- coding_expenses <= 8500.00\n",
      "|   |   |   |   |   |   |--- class: 1\n",
      "|   |   |   |   |   |--- coding_expenses >  8500.00\n",
      "|   |   |   |   |   |   |--- class: 1\n",
      "|--- months_programming >  7.50\n",
      "|   |--- employment <= 0.50\n",
      "|   |   |--- inperson_events <= 1.50\n",
      "|   |   |   |--- age <= 20.50\n",
      "|   |   |   |   |--- employment <= -0.50\n",
      "|   |   |   |   |   |--- podcasts <= 0.50\n",
      "|   |   |   |   |   |   |--- class: 0\n",
      "|   |   |   |   |   |--- podcasts >  0.50\n",
      "|   |   |   |   |   |   |--- class: 0\n",
      "|   |   |   |   |--- employment >  -0.50\n",
      "|   |   |   |   |   |--- months_programming <= 23.50\n",
      "|   |   |   |   |   |   |--- class: 0\n",
      "|   |   |   |   |   |--- months_programming >  23.50\n",
      "|   |   |   |   |   |   |--- class: 0\n",
      "|   |   |   |--- age >  20.50\n",
      "|   |   |   |   |--- months_programming <= 41.00\n",
      "|   |   |   |   |   |--- age <= 29.50\n",
      "|   |   |   |   |   |   |--- class: 0\n",
      "|   |   |   |   |   |--- age >  29.50\n",
      "|   |   |   |   |   |   |--- class: 0\n",
      "|   |   |   |   |--- months_programming >  41.00\n",
      "|   |   |   |   |   |--- age <= 26.50\n",
      "|   |   |   |   |   |   |--- class: 0\n",
      "|   |   |   |   |   |--- age >  26.50\n",
      "|   |   |   |   |   |   |--- class: 1\n",
      "|   |   |--- inperson_events >  1.50\n",
      "|   |   |   |--- hours_learning_week <= 13.00\n",
      "|   |   |   |   |--- employment <= -0.50\n",
      "|   |   |   |   |   |--- age <= 22.50\n",
      "|   |   |   |   |   |   |--- class: 0\n",
      "|   |   |   |   |   |--- age >  22.50\n",
      "|   |   |   |   |   |   |--- class: 0\n",
      "|   |   |   |   |--- employment >  -0.50\n",
      "|   |   |   |   |   |--- months_programming <= 12.50\n",
      "|   |   |   |   |   |   |--- class: 0\n",
      "|   |   |   |   |   |--- months_programming >  12.50\n",
      "|   |   |   |   |   |   |--- class: 1\n",
      "|   |   |   |--- hours_learning_week >  13.00\n",
      "|   |   |   |   |--- employment <= -0.50\n",
      "|   |   |   |   |   |--- inperson_events <= 2.50\n",
      "|   |   |   |   |   |   |--- class: 0\n",
      "|   |   |   |   |   |--- inperson_events >  2.50\n",
      "|   |   |   |   |   |   |--- class: 0\n",
      "|   |   |   |   |--- employment >  -0.50\n",
      "|   |   |   |   |   |--- age <= 27.50\n",
      "|   |   |   |   |   |   |--- class: 0\n",
      "|   |   |   |   |   |--- age >  27.50\n",
      "|   |   |   |   |   |   |--- class: 0\n",
      "|   |--- employment >  0.50\n",
      "|   |   |--- months_programming <= 12.50\n",
      "|   |   |   |--- age <= 27.50\n",
      "|   |   |   |   |--- age <= 18.50\n",
      "|   |   |   |   |   |--- hours_learning_week <= 2.50\n",
      "|   |   |   |   |   |   |--- class: 0\n",
      "|   |   |   |   |   |--- hours_learning_week >  2.50\n",
      "|   |   |   |   |   |   |--- class: 0\n",
      "|   |   |   |   |--- age >  18.50\n",
      "|   |   |   |   |   |--- gender_male <= 0.50\n",
      "|   |   |   |   |   |   |--- class: 1\n",
      "|   |   |   |   |   |--- gender_male >  0.50\n",
      "|   |   |   |   |   |   |--- class: 1\n",
      "|   |   |   |--- age >  27.50\n",
      "|   |   |   |   |--- online_resources <= 7.50\n",
      "|   |   |   |   |   |--- inperson_events <= 1.50\n",
      "|   |   |   |   |   |   |--- class: 0\n",
      "|   |   |   |   |   |--- inperson_events >  1.50\n",
      "|   |   |   |   |   |   |--- class: 1\n",
      "|   |   |   |   |--- online_resources >  7.50\n",
      "|   |   |   |   |   |--- podcasts <= 2.50\n",
      "|   |   |   |   |   |   |--- class: 1\n",
      "|   |   |   |   |   |--- podcasts >  2.50\n",
      "|   |   |   |   |   |   |--- class: 1\n",
      "|   |   |--- months_programming >  12.50\n",
      "|   |   |   |--- months_programming <= 24.50\n",
      "|   |   |   |   |--- age <= 33.50\n",
      "|   |   |   |   |   |--- age <= 20.50\n",
      "|   |   |   |   |   |   |--- class: 1\n",
      "|   |   |   |   |   |--- age >  20.50\n",
      "|   |   |   |   |   |   |--- class: 1\n",
      "|   |   |   |   |--- age >  33.50\n",
      "|   |   |   |   |   |--- attended_bootcamp <= 0.50\n",
      "|   |   |   |   |   |   |--- class: 1\n",
      "|   |   |   |   |   |--- attended_bootcamp >  0.50\n",
      "|   |   |   |   |   |   |--- class: 1\n",
      "|   |   |   |--- months_programming >  24.50\n",
      "|   |   |   |   |--- months_programming <= 48.50\n",
      "|   |   |   |   |   |--- age <= 28.50\n",
      "|   |   |   |   |   |   |--- class: 1\n",
      "|   |   |   |   |   |--- age >  28.50\n",
      "|   |   |   |   |   |   |--- class: 1\n",
      "|   |   |   |   |--- months_programming >  48.50\n",
      "|   |   |   |   |   |--- hours_learning_week <= 11.00\n",
      "|   |   |   |   |   |   |--- class: 1\n",
      "|   |   |   |   |   |--- hours_learning_week >  11.00\n",
      "|   |   |   |   |   |   |--- class: 1\n",
      "\n"
     ]
    }
   ],
   "source": [
    "print (r)"
   ]
  },
  {
   "cell_type": "code",
   "execution_count": 25,
   "metadata": {},
   "outputs": [
    {
     "data": {
      "text/plain": [
       "'sftdev.pdf'"
      ]
     },
     "execution_count": 25,
     "metadata": {},
     "output_type": "execute_result"
    }
   ],
   "source": [
    "import graphviz \n",
    "from sklearn import tree\n",
    "dot_data = tree.export_graphviz(dtc, out_file=None, feature_names=list(X1.columns), class_names=True, filled=True,\n",
    "                               rotate=True) \n",
    "graph = graphviz.Source(dot_data) \n",
    "graph.render(\"sftdev\") "
   ]
  },
  {
   "cell_type": "raw",
   "metadata": {},
   "source": [
    "data.linear_model "
   ]
  },
  {
   "cell_type": "code",
   "execution_count": 27,
   "metadata": {},
   "outputs": [],
   "source": [
    "TP = cm['Predicted Not StwDev']['True Not StwDev']\n",
    "FP = cm['Predicted StwDev']['True Not StwDev']\n",
    "FN = cm['Predicted Not StwDev']['True StwDev']"
   ]
  },
  {
   "cell_type": "code",
   "execution_count": 28,
   "metadata": {},
   "outputs": [
    {
     "name": "stdout",
     "output_type": "stream",
     "text": [
      "Precision: 81.15\n",
      "Recall: 78.88\n"
     ]
    }
   ],
   "source": [
    "print (f'Precision: {round(TP/(TP+FP)*100,2)}')\n",
    "print (f'Recall: {round(TP/(TP+FN)*100,2)}')\n"
   ]
  },
  {
   "cell_type": "code",
   "execution_count": 59,
   "metadata": {},
   "outputs": [
    {
     "name": "stdout",
     "output_type": "stream",
     "text": [
      "Stored 'data1' (DataFrame)\n"
     ]
    }
   ],
   "source": [
    "data1 = data\n",
    "\n",
    "%store data1"
   ]
  },
  {
   "cell_type": "markdown",
   "metadata": {},
   "source": [
    "## Try #3\n",
    "\n",
    "### Feature Selection"
   ]
  },
  {
   "cell_type": "code",
   "execution_count": 65,
   "metadata": {},
   "outputs": [
    {
     "data": {
      "text/plain": [
       "(19678, 13)"
      ]
     },
     "execution_count": 65,
     "metadata": {},
     "output_type": "execute_result"
    }
   ],
   "source": [
    "from sklearn.ensemble import ExtraTreesClassifier\n",
    "from sklearn.feature_selection import SelectFromModel\n",
    "X.shape"
   ]
  },
  {
   "cell_type": "code",
   "execution_count": 66,
   "metadata": {},
   "outputs": [
    {
     "data": {
      "text/plain": [
       "array([0.10515736, 0.2974946 , 0.01227076, 0.08941919, 0.12857408,\n",
       "       0.11689336, 0.06071988, 0.08636408, 0.04886165, 0.04203845,\n",
       "       0.00536165, 0.00591836, 0.00092659])"
      ]
     },
     "execution_count": 66,
     "metadata": {},
     "output_type": "execute_result"
    }
   ],
   "source": [
    "clf = ExtraTreesClassifier(n_estimators=50)\n",
    "clf = clf.fit(X, y)\n",
    "clf.feature_importances_  "
   ]
  },
  {
   "cell_type": "code",
   "execution_count": 67,
   "metadata": {},
   "outputs": [
    {
     "data": {
      "text/plain": [
       "(19678, 6)"
      ]
     },
     "execution_count": 67,
     "metadata": {},
     "output_type": "execute_result"
    }
   ],
   "source": [
    "model = SelectFromModel(clf, prefit=True)\n",
    "X_new = model.transform(X)\n",
    "X_new.shape               "
   ]
  },
  {
   "cell_type": "code",
   "execution_count": 82,
   "metadata": {},
   "outputs": [
    {
     "name": "stdout",
     "output_type": "stream",
     "text": [
      "Stored 'X_new' (ndarray)\n"
     ]
    }
   ],
   "source": [
    "%store X_new"
   ]
  },
  {
   "cell_type": "code",
   "execution_count": 68,
   "metadata": {},
   "outputs": [],
   "source": [
    "y = data['is_sofw_dev']\n",
    "\n",
    "X_train, X_test, y_train, y_test = train_test_split(X_new, y, test_size = 0.3, random_state=29)"
   ]
  },
  {
   "cell_type": "code",
   "execution_count": 69,
   "metadata": {},
   "outputs": [
    {
     "name": "stderr",
     "output_type": "stream",
     "text": [
      "/usr/local/lib/python3.6/dist-packages/sklearn/model_selection/_split.py:1978: FutureWarning: The default value of cv will change from 3 to 5 in version 0.22. Specify it explicitly to silence this warning.\n",
      "  warnings.warn(CV_WARNING, FutureWarning)\n"
     ]
    },
    {
     "name": "stdout",
     "output_type": "stream",
     "text": [
      "DecisionTree: Area under the ROC curve = 0.8547309020804883\n"
     ]
    }
   ],
   "source": [
    "from sklearn.tree import DecisionTreeClassifier\n",
    "from sklearn.metrics import roc_auc_score\n",
    "\n",
    "param_grid = {'max_depth': np.arange(2,12), \n",
    "              'min_samples_split': np.arange(2,10), \n",
    "              'min_samples_leaf': np.arange(1,10),  \n",
    "              }\n",
    "\n",
    "tree = GridSearchCV(DecisionTreeClassifier(), param_grid)\n",
    "\n",
    "tree.fit(X_train, y_train)\n",
    "tree_preds = tree.predict_proba(X_test)[:, 1]\n",
    "tree_performance = roc_auc_score(y_test, tree_preds)\n",
    "\n",
    "print (f'DecisionTree: Area under the ROC curve = {tree_performance}')\n"
   ]
  },
  {
   "cell_type": "code",
   "execution_count": 70,
   "metadata": {},
   "outputs": [
    {
     "data": {
      "text/plain": [
       "{'max_depth': 5, 'min_samples_leaf': 4, 'min_samples_split': 2}"
      ]
     },
     "execution_count": 70,
     "metadata": {},
     "output_type": "execute_result"
    }
   ],
   "source": [
    "tree.best_params_"
   ]
  },
  {
   "cell_type": "code",
   "execution_count": 71,
   "metadata": {},
   "outputs": [
    {
     "data": {
      "text/plain": [
       "0.7877885871932627"
      ]
     },
     "execution_count": 71,
     "metadata": {},
     "output_type": "execute_result"
    }
   ],
   "source": [
    "tree.best_score_"
   ]
  },
  {
   "cell_type": "code",
   "execution_count": 72,
   "metadata": {
    "scrolled": false
   },
   "outputs": [
    {
     "name": "stdout",
     "output_type": "stream",
     "text": [
      "Decision Tree Test Accuracy 79.23%\n"
     ]
    }
   ],
   "source": [
    "from sklearn.tree import DecisionTreeClassifier\n",
    "dtc = DecisionTreeClassifier(max_depth=5, min_samples_leaf=4, min_samples_split=2)\n",
    "dtc.fit(X_train, y_train)\n",
    "\n",
    "acc_dtc = dtc.score(X_test, y_test)*100\n",
    "print(f\"Decision Tree Test Accuracy {round(acc_dtc, 2)}%\")\n",
    "\n",
    "acc_dict['Decision Tree Classifier'] = round(acc_dtc,2)"
   ]
  },
  {
   "cell_type": "code",
   "execution_count": 73,
   "metadata": {},
   "outputs": [
    {
     "data": {
      "image/png": "[encoded data removed]",
      "text/plain": [
       "<Figure size 432x288 with 1 Axes>"
      ]
     },
     "metadata": {},
     "output_type": "display_data"
    }
   ],
   "source": [
    "x_plot = list(range(len(X_test)))\n",
    "prediction = dtc.predict(X_test)\n",
    "plt.scatter(x_plot,prediction-y_test, label = 'prediction', alpha = 1)\n",
    "plt.show()"
   ]
  },
  {
   "cell_type": "code",
   "execution_count": 74,
   "metadata": {},
   "outputs": [
    {
     "data": {
      "text/html": [
       "<div>\n",
       "<style scoped>\n",
       "    .dataframe tbody tr th:only-of-type {\n",
       "        vertical-align: middle;\n",
       "    }\n",
       "\n",
       "    .dataframe tbody tr th {\n",
       "        vertical-align: top;\n",
       "    }\n",
       "\n",
       "    .dataframe thead th {\n",
       "        text-align: right;\n",
       "    }\n",
       "</style>\n",
       "<table border=\"1\" class=\"dataframe\">\n",
       "  <thead>\n",
       "    <tr style=\"text-align: right;\">\n",
       "      <th></th>\n",
       "      <th>Predicted Not StwDev</th>\n",
       "      <th>Predicted StwDev</th>\n",
       "    </tr>\n",
       "  </thead>\n",
       "  <tbody>\n",
       "    <tr>\n",
       "      <td>True Not StwDev</td>\n",
       "      <td>2490</td>\n",
       "      <td>460</td>\n",
       "    </tr>\n",
       "    <tr>\n",
       "      <td>True StwDev</td>\n",
       "      <td>766</td>\n",
       "      <td>2188</td>\n",
       "    </tr>\n",
       "  </tbody>\n",
       "</table>\n",
       "</div>"
      ],
      "text/plain": [
       "                 Predicted Not StwDev  Predicted StwDev\n",
       "True Not StwDev                  2490               460\n",
       "True StwDev                       766              2188"
      ]
     },
     "execution_count": 74,
     "metadata": {},
     "output_type": "execute_result"
    }
   ],
   "source": [
    "from sklearn.metrics import confusion_matrix\n",
    "\n",
    "cm = pd.DataFrame(\n",
    "    confusion_matrix(y_test, prediction),\n",
    "    columns=['Predicted Not StwDev', 'Predicted StwDev'],\n",
    "    index=['True Not StwDev', 'True StwDev'])\n",
    "\n",
    "cm"
   ]
  },
  {
   "cell_type": "code",
   "execution_count": 81,
   "metadata": {},
   "outputs": [
    {
     "name": "stdout",
     "output_type": "stream",
     "text": [
      "Precision: 84.41\n",
      "Recall: 76.47\n"
     ]
    }
   ],
   "source": [
    "TP = cm['Predicted Not StwDev']['True Not StwDev']\n",
    "FP = cm['Predicted StwDev']['True Not StwDev']\n",
    "FN = cm['Predicted Not StwDev']['True StwDev']\n",
    "\n",
    "print (f'Precision: {round(TP/(TP+FP)*100,2)}')\n",
    "print (f'Recall: {round(TP/(TP+FN)*100,2)}')\n"
   ]
  },
  {
   "cell_type": "code",
   "execution_count": null,
   "metadata": {},
   "outputs": [],
   "source": []
  }
 ],
 "metadata": {
  "kernelspec": {
   "display_name": "Python 3",
   "language": "python",
   "name": "python3"
  },
  "language_info": {
   "codemirror_mode": {
    "name": "ipython",
    "version": 3
   },
   "file_extension": ".py",
   "mimetype": "text/x-python",
   "name": "python",
   "nbconvert_exporter": "python",
   "pygments_lexer": "ipython3",
   "version": "3.6.8"
  }
 },
 "nbformat": 4,
 "nbformat_minor": 2
}
