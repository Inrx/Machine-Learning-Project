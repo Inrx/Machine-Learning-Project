{
 "cells": [
  {
   "cell_type": "code",
   "execution_count": 1,
   "metadata": {},
   "outputs": [],
   "source": [
    "import pandas as pd\n",
    "import matplotlib.pyplot as plt\n",
    "import seaborn as sns\n",
    "import numpy as np\n",
    "from sklearn.linear_model import LogisticRegression\n",
    "from sklearn.model_selection import train_test_split\n",
    "from sklearn.model_selection import cross_val_score\n",
    "from sklearn.model_selection import GridSearchCV\n",
    "from sklearn import tree\n",
    "from sklearn.preprocessing import PolynomialFeatures, StandardScaler\n",
    "from sklearn.tree import DecisionTreeClassifier"
   ]
  },
  {
   "cell_type": "raw",
   "metadata": {},
   "source": [
    "%magic"
   ]
  },
  {
   "cell_type": "code",
   "execution_count": 3,
   "metadata": {
    "scrolled": false
   },
   "outputs": [
    {
     "data": {
      "text/html": [
       "<div>\n",
       "<style scoped>\n",
       "    .dataframe tbody tr th:only-of-type {\n",
       "        vertical-align: middle;\n",
       "    }\n",
       "\n",
       "    .dataframe tbody tr th {\n",
       "        vertical-align: top;\n",
       "    }\n",
       "\n",
       "    .dataframe thead th {\n",
       "        text-align: right;\n",
       "    }\n",
       "</style>\n",
       "<table border=\"1\" class=\"dataframe\">\n",
       "  <thead>\n",
       "    <tr style=\"text-align: right;\">\n",
       "      <th></th>\n",
       "      <th>hours_learning_week</th>\n",
       "      <th>months_programming</th>\n",
       "      <th>attended_bootcamp</th>\n",
       "      <th>coding_expenses</th>\n",
       "      <th>age</th>\n",
       "      <th>employment</th>\n",
       "      <th>youtube</th>\n",
       "      <th>online_resources</th>\n",
       "      <th>inperson_events</th>\n",
       "      <th>podcasts</th>\n",
       "      <th>gender_female</th>\n",
       "      <th>gender_male</th>\n",
       "      <th>gender_other</th>\n",
       "      <th>is_sofw_dev</th>\n",
       "    </tr>\n",
       "  </thead>\n",
       "  <tbody>\n",
       "    <tr>\n",
       "      <th>0</th>\n",
       "      <td>5</td>\n",
       "      <td>9</td>\n",
       "      <td>0</td>\n",
       "      <td>25</td>\n",
       "      <td>34</td>\n",
       "      <td>1</td>\n",
       "      <td>0</td>\n",
       "      <td>4</td>\n",
       "      <td>0</td>\n",
       "      <td>0</td>\n",
       "      <td>0</td>\n",
       "      <td>1</td>\n",
       "      <td>0</td>\n",
       "      <td>0</td>\n",
       "    </tr>\n",
       "    <tr>\n",
       "      <th>1</th>\n",
       "      <td>20</td>\n",
       "      <td>6</td>\n",
       "      <td>0</td>\n",
       "      <td>300</td>\n",
       "      <td>34</td>\n",
       "      <td>1</td>\n",
       "      <td>0</td>\n",
       "      <td>5</td>\n",
       "      <td>1</td>\n",
       "      <td>0</td>\n",
       "      <td>0</td>\n",
       "      <td>1</td>\n",
       "      <td>0</td>\n",
       "      <td>0</td>\n",
       "    </tr>\n",
       "    <tr>\n",
       "      <th>2</th>\n",
       "      <td>2</td>\n",
       "      <td>12</td>\n",
       "      <td>0</td>\n",
       "      <td>0</td>\n",
       "      <td>34</td>\n",
       "      <td>1</td>\n",
       "      <td>0</td>\n",
       "      <td>7</td>\n",
       "      <td>1</td>\n",
       "      <td>0</td>\n",
       "      <td>1</td>\n",
       "      <td>0</td>\n",
       "      <td>0</td>\n",
       "      <td>0</td>\n",
       "    </tr>\n",
       "    <tr>\n",
       "      <th>3</th>\n",
       "      <td>5</td>\n",
       "      <td>0</td>\n",
       "      <td>0</td>\n",
       "      <td>0</td>\n",
       "      <td>32</td>\n",
       "      <td>1</td>\n",
       "      <td>0</td>\n",
       "      <td>2</td>\n",
       "      <td>0</td>\n",
       "      <td>0</td>\n",
       "      <td>0</td>\n",
       "      <td>1</td>\n",
       "      <td>0</td>\n",
       "      <td>0</td>\n",
       "    </tr>\n",
       "    <tr>\n",
       "      <th>4</th>\n",
       "      <td>20</td>\n",
       "      <td>6</td>\n",
       "      <td>0</td>\n",
       "      <td>0</td>\n",
       "      <td>43</td>\n",
       "      <td>0</td>\n",
       "      <td>0</td>\n",
       "      <td>3</td>\n",
       "      <td>0</td>\n",
       "      <td>0</td>\n",
       "      <td>0</td>\n",
       "      <td>1</td>\n",
       "      <td>0</td>\n",
       "      <td>0</td>\n",
       "    </tr>\n",
       "  </tbody>\n",
       "</table>\n",
       "</div>"
      ],
      "text/plain": [
       "   hours_learning_week  months_programming  attended_bootcamp  \\\n",
       "0                    5                   9                  0   \n",
       "1                   20                   6                  0   \n",
       "2                    2                  12                  0   \n",
       "3                    5                   0                  0   \n",
       "4                   20                   6                  0   \n",
       "\n",
       "   coding_expenses  age  employment  youtube  online_resources  \\\n",
       "0               25   34           1        0                 4   \n",
       "1              300   34           1        0                 5   \n",
       "2                0   34           1        0                 7   \n",
       "3                0   32           1        0                 2   \n",
       "4                0   43           0        0                 3   \n",
       "\n",
       "   inperson_events  podcasts  gender_female  gender_male  gender_other  \\\n",
       "0                0         0              0            1             0   \n",
       "1                1         0              0            1             0   \n",
       "2                1         0              1            0             0   \n",
       "3                0         0              0            1             0   \n",
       "4                0         0              0            1             0   \n",
       "\n",
       "   is_sofw_dev  \n",
       "0            0  \n",
       "1            0  \n",
       "2            0  \n",
       "3            0  \n",
       "4            0  "
      ]
     },
     "execution_count": 3,
     "metadata": {},
     "output_type": "execute_result"
    }
   ],
   "source": [
    "%store -r data_resampled\n",
    "data = data_resampled\n",
    "data.head()"
   ]
  },
  {
   "cell_type": "code",
   "execution_count": 4,
   "metadata": {},
   "outputs": [
    {
     "data": {
      "text/plain": [
       "(19678, 14)"
      ]
     },
     "execution_count": 4,
     "metadata": {},
     "output_type": "execute_result"
    }
   ],
   "source": [
    "data.shape"
   ]
  },
  {
   "cell_type": "code",
   "execution_count": 5,
   "metadata": {},
   "outputs": [
    {
     "data": {
      "text/html": [
       "<div>\n",
       "<style scoped>\n",
       "    .dataframe tbody tr th:only-of-type {\n",
       "        vertical-align: middle;\n",
       "    }\n",
       "\n",
       "    .dataframe tbody tr th {\n",
       "        vertical-align: top;\n",
       "    }\n",
       "\n",
       "    .dataframe thead th {\n",
       "        text-align: right;\n",
       "    }\n",
       "</style>\n",
       "<table border=\"1\" class=\"dataframe\">\n",
       "  <thead>\n",
       "    <tr style=\"text-align: right;\">\n",
       "      <th></th>\n",
       "      <th>hours_learning_week</th>\n",
       "      <th>months_programming</th>\n",
       "      <th>attended_bootcamp</th>\n",
       "      <th>coding_expenses</th>\n",
       "      <th>age</th>\n",
       "      <th>employment</th>\n",
       "      <th>youtube</th>\n",
       "      <th>online_resources</th>\n",
       "      <th>inperson_events</th>\n",
       "      <th>podcasts</th>\n",
       "      <th>gender_female</th>\n",
       "      <th>gender_male</th>\n",
       "      <th>gender_other</th>\n",
       "      <th>is_sofw_dev</th>\n",
       "    </tr>\n",
       "  </thead>\n",
       "  <tbody>\n",
       "    <tr>\n",
       "      <th>count</th>\n",
       "      <td>19678.000000</td>\n",
       "      <td>19678.000000</td>\n",
       "      <td>19678.000000</td>\n",
       "      <td>19678.000000</td>\n",
       "      <td>19678.000000</td>\n",
       "      <td>19678.000000</td>\n",
       "      <td>19678.000000</td>\n",
       "      <td>19678.000000</td>\n",
       "      <td>19678.000000</td>\n",
       "      <td>19678.000000</td>\n",
       "      <td>19678.000000</td>\n",
       "      <td>19678.000000</td>\n",
       "      <td>19678.000000</td>\n",
       "      <td>19678.000000</td>\n",
       "    </tr>\n",
       "    <tr>\n",
       "      <th>mean</th>\n",
       "      <td>12.605600</td>\n",
       "      <td>19.577345</td>\n",
       "      <td>0.058288</td>\n",
       "      <td>501.509808</td>\n",
       "      <td>27.946387</td>\n",
       "      <td>0.721669</td>\n",
       "      <td>1.248247</td>\n",
       "      <td>4.250635</td>\n",
       "      <td>0.945218</td>\n",
       "      <td>0.565606</td>\n",
       "      <td>0.182285</td>\n",
       "      <td>0.808212</td>\n",
       "      <td>0.005488</td>\n",
       "      <td>0.500000</td>\n",
       "    </tr>\n",
       "    <tr>\n",
       "      <th>std</th>\n",
       "      <td>11.228607</td>\n",
       "      <td>21.891642</td>\n",
       "      <td>0.234294</td>\n",
       "      <td>1521.408998</td>\n",
       "      <td>6.936196</td>\n",
       "      <td>0.524860</td>\n",
       "      <td>1.787915</td>\n",
       "      <td>2.636928</td>\n",
       "      <td>1.095643</td>\n",
       "      <td>1.066732</td>\n",
       "      <td>0.386089</td>\n",
       "      <td>0.393717</td>\n",
       "      <td>0.073882</td>\n",
       "      <td>0.500013</td>\n",
       "    </tr>\n",
       "    <tr>\n",
       "      <th>min</th>\n",
       "      <td>0.000000</td>\n",
       "      <td>0.000000</td>\n",
       "      <td>0.000000</td>\n",
       "      <td>0.000000</td>\n",
       "      <td>17.000000</td>\n",
       "      <td>-1.000000</td>\n",
       "      <td>0.000000</td>\n",
       "      <td>0.000000</td>\n",
       "      <td>0.000000</td>\n",
       "      <td>0.000000</td>\n",
       "      <td>0.000000</td>\n",
       "      <td>0.000000</td>\n",
       "      <td>0.000000</td>\n",
       "      <td>0.000000</td>\n",
       "    </tr>\n",
       "    <tr>\n",
       "      <th>25%</th>\n",
       "      <td>5.000000</td>\n",
       "      <td>3.000000</td>\n",
       "      <td>0.000000</td>\n",
       "      <td>0.000000</td>\n",
       "      <td>23.000000</td>\n",
       "      <td>1.000000</td>\n",
       "      <td>0.000000</td>\n",
       "      <td>2.000000</td>\n",
       "      <td>0.000000</td>\n",
       "      <td>0.000000</td>\n",
       "      <td>0.000000</td>\n",
       "      <td>1.000000</td>\n",
       "      <td>0.000000</td>\n",
       "      <td>0.000000</td>\n",
       "    </tr>\n",
       "    <tr>\n",
       "      <th>50%</th>\n",
       "      <td>10.000000</td>\n",
       "      <td>12.000000</td>\n",
       "      <td>0.000000</td>\n",
       "      <td>10.000000</td>\n",
       "      <td>26.000000</td>\n",
       "      <td>1.000000</td>\n",
       "      <td>1.000000</td>\n",
       "      <td>4.000000</td>\n",
       "      <td>1.000000</td>\n",
       "      <td>0.000000</td>\n",
       "      <td>0.000000</td>\n",
       "      <td>1.000000</td>\n",
       "      <td>0.000000</td>\n",
       "      <td>0.500000</td>\n",
       "    </tr>\n",
       "    <tr>\n",
       "      <th>75%</th>\n",
       "      <td>20.000000</td>\n",
       "      <td>30.000000</td>\n",
       "      <td>0.000000</td>\n",
       "      <td>200.000000</td>\n",
       "      <td>31.000000</td>\n",
       "      <td>1.000000</td>\n",
       "      <td>2.000000</td>\n",
       "      <td>6.000000</td>\n",
       "      <td>1.000000</td>\n",
       "      <td>1.000000</td>\n",
       "      <td>0.000000</td>\n",
       "      <td>1.000000</td>\n",
       "      <td>0.000000</td>\n",
       "      <td>1.000000</td>\n",
       "    </tr>\n",
       "    <tr>\n",
       "      <th>max</th>\n",
       "      <td>55.000000</td>\n",
       "      <td>115.000000</td>\n",
       "      <td>1.000000</td>\n",
       "      <td>11500.000000</td>\n",
       "      <td>52.000000</td>\n",
       "      <td>1.000000</td>\n",
       "      <td>17.000000</td>\n",
       "      <td>19.000000</td>\n",
       "      <td>16.000000</td>\n",
       "      <td>19.000000</td>\n",
       "      <td>1.000000</td>\n",
       "      <td>1.000000</td>\n",
       "      <td>1.000000</td>\n",
       "      <td>1.000000</td>\n",
       "    </tr>\n",
       "  </tbody>\n",
       "</table>\n",
       "</div>"
      ],
      "text/plain": [
       "       hours_learning_week  months_programming  attended_bootcamp  \\\n",
       "count         19678.000000        19678.000000       19678.000000   \n",
       "mean             12.605600           19.577345           0.058288   \n",
       "std              11.228607           21.891642           0.234294   \n",
       "min               0.000000            0.000000           0.000000   \n",
       "25%               5.000000            3.000000           0.000000   \n",
       "50%              10.000000           12.000000           0.000000   \n",
       "75%              20.000000           30.000000           0.000000   \n",
       "max              55.000000          115.000000           1.000000   \n",
       "\n",
       "       coding_expenses           age    employment       youtube  \\\n",
       "count     19678.000000  19678.000000  19678.000000  19678.000000   \n",
       "mean        501.509808     27.946387      0.721669      1.248247   \n",
       "std        1521.408998      6.936196      0.524860      1.787915   \n",
       "min           0.000000     17.000000     -1.000000      0.000000   \n",
       "25%           0.000000     23.000000      1.000000      0.000000   \n",
       "50%          10.000000     26.000000      1.000000      1.000000   \n",
       "75%         200.000000     31.000000      1.000000      2.000000   \n",
       "max       11500.000000     52.000000      1.000000     17.000000   \n",
       "\n",
       "       online_resources  inperson_events      podcasts  gender_female  \\\n",
       "count      19678.000000     19678.000000  19678.000000   19678.000000   \n",
       "mean           4.250635         0.945218      0.565606       0.182285   \n",
       "std            2.636928         1.095643      1.066732       0.386089   \n",
       "min            0.000000         0.000000      0.000000       0.000000   \n",
       "25%            2.000000         0.000000      0.000000       0.000000   \n",
       "50%            4.000000         1.000000      0.000000       0.000000   \n",
       "75%            6.000000         1.000000      1.000000       0.000000   \n",
       "max           19.000000        16.000000     19.000000       1.000000   \n",
       "\n",
       "        gender_male  gender_other   is_sofw_dev  \n",
       "count  19678.000000  19678.000000  19678.000000  \n",
       "mean       0.808212      0.005488      0.500000  \n",
       "std        0.393717      0.073882      0.500013  \n",
       "min        0.000000      0.000000      0.000000  \n",
       "25%        1.000000      0.000000      0.000000  \n",
       "50%        1.000000      0.000000      0.500000  \n",
       "75%        1.000000      0.000000      1.000000  \n",
       "max        1.000000      1.000000      1.000000  "
      ]
     },
     "execution_count": 5,
     "metadata": {},
     "output_type": "execute_result"
    }
   ],
   "source": [
    "data.describe()"
   ]
  },
  {
   "cell_type": "code",
   "execution_count": 6,
   "metadata": {},
   "outputs": [
    {
     "data": {
      "text/plain": [
       "1    9839\n",
       "0    9839\n",
       "Name: is_sofw_dev, dtype: int64"
      ]
     },
     "execution_count": 6,
     "metadata": {},
     "output_type": "execute_result"
    }
   ],
   "source": [
    "data.is_sofw_dev.value_counts()"
   ]
  },
  {
   "cell_type": "code",
   "execution_count": 7,
   "metadata": {
    "scrolled": false
   },
   "outputs": [
    {
     "data": {
      "text/plain": [
       "['hours_learning_week',\n",
       " 'months_programming',\n",
       " 'attended_bootcamp',\n",
       " 'coding_expenses',\n",
       " 'age',\n",
       " 'employment',\n",
       " 'youtube',\n",
       " 'online_resources',\n",
       " 'inperson_events',\n",
       " 'podcasts',\n",
       " 'gender_female',\n",
       " 'gender_male',\n",
       " 'gender_other',\n",
       " 'is_sofw_dev']"
      ]
     },
     "execution_count": 7,
     "metadata": {},
     "output_type": "execute_result"
    }
   ],
   "source": [
    "list(data.columns)"
   ]
  },
  {
   "cell_type": "code",
   "execution_count": 8,
   "metadata": {},
   "outputs": [
    {
     "data": {
      "text/html": [
       "<div>\n",
       "<style scoped>\n",
       "    .dataframe tbody tr th:only-of-type {\n",
       "        vertical-align: middle;\n",
       "    }\n",
       "\n",
       "    .dataframe tbody tr th {\n",
       "        vertical-align: top;\n",
       "    }\n",
       "\n",
       "    .dataframe thead th {\n",
       "        text-align: right;\n",
       "    }\n",
       "</style>\n",
       "<table border=\"1\" class=\"dataframe\">\n",
       "  <thead>\n",
       "    <tr style=\"text-align: right;\">\n",
       "      <th></th>\n",
       "      <th>hours_learning_week</th>\n",
       "      <th>months_programming</th>\n",
       "      <th>attended_bootcamp</th>\n",
       "      <th>coding_expenses</th>\n",
       "      <th>age</th>\n",
       "      <th>employment</th>\n",
       "      <th>youtube</th>\n",
       "      <th>online_resources</th>\n",
       "      <th>inperson_events</th>\n",
       "      <th>podcasts</th>\n",
       "      <th>gender_female</th>\n",
       "      <th>gender_male</th>\n",
       "      <th>gender_other</th>\n",
       "      <th>is_sofw_dev</th>\n",
       "    </tr>\n",
       "  </thead>\n",
       "  <tbody>\n",
       "    <tr>\n",
       "      <th>count</th>\n",
       "      <td>19678.000000</td>\n",
       "      <td>19678.000000</td>\n",
       "      <td>19678.000000</td>\n",
       "      <td>19678.000000</td>\n",
       "      <td>19678.000000</td>\n",
       "      <td>19678.000000</td>\n",
       "      <td>19678.000000</td>\n",
       "      <td>19678.000000</td>\n",
       "      <td>19678.000000</td>\n",
       "      <td>19678.000000</td>\n",
       "      <td>19678.000000</td>\n",
       "      <td>19678.000000</td>\n",
       "      <td>19678.000000</td>\n",
       "      <td>19678.000000</td>\n",
       "    </tr>\n",
       "    <tr>\n",
       "      <th>mean</th>\n",
       "      <td>12.605600</td>\n",
       "      <td>19.577345</td>\n",
       "      <td>0.058288</td>\n",
       "      <td>0.043610</td>\n",
       "      <td>27.946387</td>\n",
       "      <td>0.721669</td>\n",
       "      <td>1.248247</td>\n",
       "      <td>4.250635</td>\n",
       "      <td>0.945218</td>\n",
       "      <td>0.565606</td>\n",
       "      <td>0.182285</td>\n",
       "      <td>0.808212</td>\n",
       "      <td>0.005488</td>\n",
       "      <td>0.500000</td>\n",
       "    </tr>\n",
       "    <tr>\n",
       "      <th>std</th>\n",
       "      <td>11.228607</td>\n",
       "      <td>21.891642</td>\n",
       "      <td>0.234294</td>\n",
       "      <td>0.132296</td>\n",
       "      <td>6.936196</td>\n",
       "      <td>0.524860</td>\n",
       "      <td>1.787915</td>\n",
       "      <td>2.636928</td>\n",
       "      <td>1.095643</td>\n",
       "      <td>1.066732</td>\n",
       "      <td>0.386089</td>\n",
       "      <td>0.393717</td>\n",
       "      <td>0.073882</td>\n",
       "      <td>0.500013</td>\n",
       "    </tr>\n",
       "    <tr>\n",
       "      <th>min</th>\n",
       "      <td>0.000000</td>\n",
       "      <td>0.000000</td>\n",
       "      <td>0.000000</td>\n",
       "      <td>0.000000</td>\n",
       "      <td>17.000000</td>\n",
       "      <td>-1.000000</td>\n",
       "      <td>0.000000</td>\n",
       "      <td>0.000000</td>\n",
       "      <td>0.000000</td>\n",
       "      <td>0.000000</td>\n",
       "      <td>0.000000</td>\n",
       "      <td>0.000000</td>\n",
       "      <td>0.000000</td>\n",
       "      <td>0.000000</td>\n",
       "    </tr>\n",
       "    <tr>\n",
       "      <th>25%</th>\n",
       "      <td>5.000000</td>\n",
       "      <td>3.000000</td>\n",
       "      <td>0.000000</td>\n",
       "      <td>0.000000</td>\n",
       "      <td>23.000000</td>\n",
       "      <td>1.000000</td>\n",
       "      <td>0.000000</td>\n",
       "      <td>2.000000</td>\n",
       "      <td>0.000000</td>\n",
       "      <td>0.000000</td>\n",
       "      <td>0.000000</td>\n",
       "      <td>1.000000</td>\n",
       "      <td>0.000000</td>\n",
       "      <td>0.000000</td>\n",
       "    </tr>\n",
       "    <tr>\n",
       "      <th>50%</th>\n",
       "      <td>10.000000</td>\n",
       "      <td>12.000000</td>\n",
       "      <td>0.000000</td>\n",
       "      <td>0.000870</td>\n",
       "      <td>26.000000</td>\n",
       "      <td>1.000000</td>\n",
       "      <td>1.000000</td>\n",
       "      <td>4.000000</td>\n",
       "      <td>1.000000</td>\n",
       "      <td>0.000000</td>\n",
       "      <td>0.000000</td>\n",
       "      <td>1.000000</td>\n",
       "      <td>0.000000</td>\n",
       "      <td>0.500000</td>\n",
       "    </tr>\n",
       "    <tr>\n",
       "      <th>75%</th>\n",
       "      <td>20.000000</td>\n",
       "      <td>30.000000</td>\n",
       "      <td>0.000000</td>\n",
       "      <td>0.017391</td>\n",
       "      <td>31.000000</td>\n",
       "      <td>1.000000</td>\n",
       "      <td>2.000000</td>\n",
       "      <td>6.000000</td>\n",
       "      <td>1.000000</td>\n",
       "      <td>1.000000</td>\n",
       "      <td>0.000000</td>\n",
       "      <td>1.000000</td>\n",
       "      <td>0.000000</td>\n",
       "      <td>1.000000</td>\n",
       "    </tr>\n",
       "    <tr>\n",
       "      <th>max</th>\n",
       "      <td>55.000000</td>\n",
       "      <td>115.000000</td>\n",
       "      <td>1.000000</td>\n",
       "      <td>1.000000</td>\n",
       "      <td>52.000000</td>\n",
       "      <td>1.000000</td>\n",
       "      <td>17.000000</td>\n",
       "      <td>19.000000</td>\n",
       "      <td>16.000000</td>\n",
       "      <td>19.000000</td>\n",
       "      <td>1.000000</td>\n",
       "      <td>1.000000</td>\n",
       "      <td>1.000000</td>\n",
       "      <td>1.000000</td>\n",
       "    </tr>\n",
       "  </tbody>\n",
       "</table>\n",
       "</div>"
      ],
      "text/plain": [
       "       hours_learning_week  months_programming  attended_bootcamp  \\\n",
       "count         19678.000000        19678.000000       19678.000000   \n",
       "mean             12.605600           19.577345           0.058288   \n",
       "std              11.228607           21.891642           0.234294   \n",
       "min               0.000000            0.000000           0.000000   \n",
       "25%               5.000000            3.000000           0.000000   \n",
       "50%              10.000000           12.000000           0.000000   \n",
       "75%              20.000000           30.000000           0.000000   \n",
       "max              55.000000          115.000000           1.000000   \n",
       "\n",
       "       coding_expenses           age    employment       youtube  \\\n",
       "count     19678.000000  19678.000000  19678.000000  19678.000000   \n",
       "mean          0.043610     27.946387      0.721669      1.248247   \n",
       "std           0.132296      6.936196      0.524860      1.787915   \n",
       "min           0.000000     17.000000     -1.000000      0.000000   \n",
       "25%           0.000000     23.000000      1.000000      0.000000   \n",
       "50%           0.000870     26.000000      1.000000      1.000000   \n",
       "75%           0.017391     31.000000      1.000000      2.000000   \n",
       "max           1.000000     52.000000      1.000000     17.000000   \n",
       "\n",
       "       online_resources  inperson_events      podcasts  gender_female  \\\n",
       "count      19678.000000     19678.000000  19678.000000   19678.000000   \n",
       "mean           4.250635         0.945218      0.565606       0.182285   \n",
       "std            2.636928         1.095643      1.066732       0.386089   \n",
       "min            0.000000         0.000000      0.000000       0.000000   \n",
       "25%            2.000000         0.000000      0.000000       0.000000   \n",
       "50%            4.000000         1.000000      0.000000       0.000000   \n",
       "75%            6.000000         1.000000      1.000000       0.000000   \n",
       "max           19.000000        16.000000     19.000000       1.000000   \n",
       "\n",
       "        gender_male  gender_other   is_sofw_dev  \n",
       "count  19678.000000  19678.000000  19678.000000  \n",
       "mean       0.808212      0.005488      0.500000  \n",
       "std        0.393717      0.073882      0.500013  \n",
       "min        0.000000      0.000000      0.000000  \n",
       "25%        1.000000      0.000000      0.000000  \n",
       "50%        1.000000      0.000000      0.500000  \n",
       "75%        1.000000      0.000000      1.000000  \n",
       "max        1.000000      1.000000      1.000000  "
      ]
     },
     "execution_count": 8,
     "metadata": {},
     "output_type": "execute_result"
    }
   ],
   "source": [
    "from sklearn.preprocessing import MinMaxScaler, StandardScaler   # what's the difference??\n",
    "\n",
    "# initialization of the scale\n",
    "scaler = MinMaxScaler(feature_range=(0,1))\n",
    "\n",
    "# apply the scale/model to the dataset.  \n",
    "data['coding_expenses'] = scaler.fit_transform(data['coding_expenses'].values.reshape(-1, 1)) \n",
    "\n",
    "data.describe()"
   ]
  },
  {
   "cell_type": "code",
   "execution_count": 9,
   "metadata": {},
   "outputs": [
    {
     "data": {
      "text/plain": [
       "(array([17998.,   602.,   249.,   141.,   207.,    80.,   131.,    45.,\n",
       "          168.,    57.]),\n",
       " array([0. , 0.1, 0.2, 0.3, 0.4, 0.5, 0.6, 0.7, 0.8, 0.9, 1. ]),\n",
       " <a list of 10 Patch objects>)"
      ]
     },
     "execution_count": 9,
     "metadata": {},
     "output_type": "execute_result"
    },
    {
     "data": {
      "image/png": "[encoded data removed]",
      "text/plain": [
       "<Figure size 432x288 with 1 Axes>"
      ]
     },
     "metadata": {
      "needs_background": "light"
     },
     "output_type": "display_data"
    }
   ],
   "source": [
    "plt.hist(data['coding_expenses'])"
   ]
  },
  {
   "cell_type": "code",
   "execution_count": 10,
   "metadata": {},
   "outputs": [
    {
     "data": {
      "text/html": [
       "<div>\n",
       "<style scoped>\n",
       "    .dataframe tbody tr th:only-of-type {\n",
       "        vertical-align: middle;\n",
       "    }\n",
       "\n",
       "    .dataframe tbody tr th {\n",
       "        vertical-align: top;\n",
       "    }\n",
       "\n",
       "    .dataframe thead th {\n",
       "        text-align: right;\n",
       "    }\n",
       "</style>\n",
       "<table border=\"1\" class=\"dataframe\">\n",
       "  <thead>\n",
       "    <tr style=\"text-align: right;\">\n",
       "      <th></th>\n",
       "      <th>hours_learning_week</th>\n",
       "      <th>months_programming</th>\n",
       "      <th>attended_bootcamp</th>\n",
       "      <th>coding_expenses</th>\n",
       "      <th>age</th>\n",
       "      <th>employment</th>\n",
       "      <th>youtube</th>\n",
       "      <th>online_resources</th>\n",
       "      <th>inperson_events</th>\n",
       "      <th>podcasts</th>\n",
       "      <th>gender_female</th>\n",
       "      <th>gender_male</th>\n",
       "      <th>gender_other</th>\n",
       "      <th>is_sofw_dev</th>\n",
       "    </tr>\n",
       "  </thead>\n",
       "  <tbody>\n",
       "    <tr>\n",
       "      <th>count</th>\n",
       "      <td>19678.000000</td>\n",
       "      <td>19678.000000</td>\n",
       "      <td>19678.000000</td>\n",
       "      <td>19678.000000</td>\n",
       "      <td>19678.000000</td>\n",
       "      <td>19678.000000</td>\n",
       "      <td>19678.000000</td>\n",
       "      <td>19678.000000</td>\n",
       "      <td>19678.000000</td>\n",
       "      <td>19678.000000</td>\n",
       "      <td>19678.000000</td>\n",
       "      <td>19678.000000</td>\n",
       "      <td>19678.000000</td>\n",
       "      <td>19678.000000</td>\n",
       "    </tr>\n",
       "    <tr>\n",
       "      <th>mean</th>\n",
       "      <td>12.605600</td>\n",
       "      <td>19.577345</td>\n",
       "      <td>0.058288</td>\n",
       "      <td>0.043610</td>\n",
       "      <td>27.946387</td>\n",
       "      <td>0.721669</td>\n",
       "      <td>1.248247</td>\n",
       "      <td>4.250635</td>\n",
       "      <td>0.945218</td>\n",
       "      <td>0.565606</td>\n",
       "      <td>0.182285</td>\n",
       "      <td>0.808212</td>\n",
       "      <td>0.005488</td>\n",
       "      <td>0.500000</td>\n",
       "    </tr>\n",
       "    <tr>\n",
       "      <th>std</th>\n",
       "      <td>11.228607</td>\n",
       "      <td>21.891642</td>\n",
       "      <td>0.234294</td>\n",
       "      <td>0.132296</td>\n",
       "      <td>6.936196</td>\n",
       "      <td>0.524860</td>\n",
       "      <td>1.787915</td>\n",
       "      <td>2.636928</td>\n",
       "      <td>1.095643</td>\n",
       "      <td>1.066732</td>\n",
       "      <td>0.386089</td>\n",
       "      <td>0.393717</td>\n",
       "      <td>0.073882</td>\n",
       "      <td>0.500013</td>\n",
       "    </tr>\n",
       "    <tr>\n",
       "      <th>min</th>\n",
       "      <td>0.000000</td>\n",
       "      <td>0.000000</td>\n",
       "      <td>0.000000</td>\n",
       "      <td>0.000000</td>\n",
       "      <td>17.000000</td>\n",
       "      <td>-1.000000</td>\n",
       "      <td>0.000000</td>\n",
       "      <td>0.000000</td>\n",
       "      <td>0.000000</td>\n",
       "      <td>0.000000</td>\n",
       "      <td>0.000000</td>\n",
       "      <td>0.000000</td>\n",
       "      <td>0.000000</td>\n",
       "      <td>0.000000</td>\n",
       "    </tr>\n",
       "    <tr>\n",
       "      <th>25%</th>\n",
       "      <td>5.000000</td>\n",
       "      <td>3.000000</td>\n",
       "      <td>0.000000</td>\n",
       "      <td>0.000000</td>\n",
       "      <td>23.000000</td>\n",
       "      <td>1.000000</td>\n",
       "      <td>0.000000</td>\n",
       "      <td>2.000000</td>\n",
       "      <td>0.000000</td>\n",
       "      <td>0.000000</td>\n",
       "      <td>0.000000</td>\n",
       "      <td>1.000000</td>\n",
       "      <td>0.000000</td>\n",
       "      <td>0.000000</td>\n",
       "    </tr>\n",
       "    <tr>\n",
       "      <th>50%</th>\n",
       "      <td>10.000000</td>\n",
       "      <td>12.000000</td>\n",
       "      <td>0.000000</td>\n",
       "      <td>0.000870</td>\n",
       "      <td>26.000000</td>\n",
       "      <td>1.000000</td>\n",
       "      <td>1.000000</td>\n",
       "      <td>4.000000</td>\n",
       "      <td>1.000000</td>\n",
       "      <td>0.000000</td>\n",
       "      <td>0.000000</td>\n",
       "      <td>1.000000</td>\n",
       "      <td>0.000000</td>\n",
       "      <td>0.500000</td>\n",
       "    </tr>\n",
       "    <tr>\n",
       "      <th>75%</th>\n",
       "      <td>20.000000</td>\n",
       "      <td>30.000000</td>\n",
       "      <td>0.000000</td>\n",
       "      <td>0.017391</td>\n",
       "      <td>31.000000</td>\n",
       "      <td>1.000000</td>\n",
       "      <td>2.000000</td>\n",
       "      <td>6.000000</td>\n",
       "      <td>1.000000</td>\n",
       "      <td>1.000000</td>\n",
       "      <td>0.000000</td>\n",
       "      <td>1.000000</td>\n",
       "      <td>0.000000</td>\n",
       "      <td>1.000000</td>\n",
       "    </tr>\n",
       "    <tr>\n",
       "      <th>max</th>\n",
       "      <td>55.000000</td>\n",
       "      <td>115.000000</td>\n",
       "      <td>1.000000</td>\n",
       "      <td>1.000000</td>\n",
       "      <td>52.000000</td>\n",
       "      <td>1.000000</td>\n",
       "      <td>17.000000</td>\n",
       "      <td>19.000000</td>\n",
       "      <td>16.000000</td>\n",
       "      <td>19.000000</td>\n",
       "      <td>1.000000</td>\n",
       "      <td>1.000000</td>\n",
       "      <td>1.000000</td>\n",
       "      <td>1.000000</td>\n",
       "    </tr>\n",
       "  </tbody>\n",
       "</table>\n",
       "</div>"
      ],
      "text/plain": [
       "       hours_learning_week  months_programming  attended_bootcamp  \\\n",
       "count         19678.000000        19678.000000       19678.000000   \n",
       "mean             12.605600           19.577345           0.058288   \n",
       "std              11.228607           21.891642           0.234294   \n",
       "min               0.000000            0.000000           0.000000   \n",
       "25%               5.000000            3.000000           0.000000   \n",
       "50%              10.000000           12.000000           0.000000   \n",
       "75%              20.000000           30.000000           0.000000   \n",
       "max              55.000000          115.000000           1.000000   \n",
       "\n",
       "       coding_expenses           age    employment       youtube  \\\n",
       "count     19678.000000  19678.000000  19678.000000  19678.000000   \n",
       "mean          0.043610     27.946387      0.721669      1.248247   \n",
       "std           0.132296      6.936196      0.524860      1.787915   \n",
       "min           0.000000     17.000000     -1.000000      0.000000   \n",
       "25%           0.000000     23.000000      1.000000      0.000000   \n",
       "50%           0.000870     26.000000      1.000000      1.000000   \n",
       "75%           0.017391     31.000000      1.000000      2.000000   \n",
       "max           1.000000     52.000000      1.000000     17.000000   \n",
       "\n",
       "       online_resources  inperson_events      podcasts  gender_female  \\\n",
       "count      19678.000000     19678.000000  19678.000000   19678.000000   \n",
       "mean           4.250635         0.945218      0.565606       0.182285   \n",
       "std            2.636928         1.095643      1.066732       0.386089   \n",
       "min            0.000000         0.000000      0.000000       0.000000   \n",
       "25%            2.000000         0.000000      0.000000       0.000000   \n",
       "50%            4.000000         1.000000      0.000000       0.000000   \n",
       "75%            6.000000         1.000000      1.000000       0.000000   \n",
       "max           19.000000        16.000000     19.000000       1.000000   \n",
       "\n",
       "        gender_male  gender_other   is_sofw_dev  \n",
       "count  19678.000000  19678.000000  19678.000000  \n",
       "mean       0.808212      0.005488      0.500000  \n",
       "std        0.393717      0.073882      0.500013  \n",
       "min        0.000000      0.000000      0.000000  \n",
       "25%        1.000000      0.000000      0.000000  \n",
       "50%        1.000000      0.000000      0.500000  \n",
       "75%        1.000000      0.000000      1.000000  \n",
       "max        1.000000      1.000000      1.000000  "
      ]
     },
     "execution_count": 10,
     "metadata": {},
     "output_type": "execute_result"
    }
   ],
   "source": [
    "data.describe()"
   ]
  },
  {
   "cell_type": "code",
   "execution_count": 11,
   "metadata": {
    "scrolled": true
   },
   "outputs": [
    {
     "data": {
      "text/plain": [
       "1    9839\n",
       "0    9839\n",
       "Name: is_sofw_dev, dtype: int64"
      ]
     },
     "execution_count": 11,
     "metadata": {},
     "output_type": "execute_result"
    }
   ],
   "source": [
    "data.is_sofw_dev.value_counts()"
   ]
  },
  {
   "cell_type": "code",
   "execution_count": 12,
   "metadata": {},
   "outputs": [],
   "source": [
    "y = data['is_sofw_dev']\n",
    "\n",
    "X = data.drop(['is_sofw_dev', 'gender_female','gender_male','gender_other'], axis = 1)\n",
    "\n",
    "X_train, X_test, y_train, y_test = train_test_split(X, y, test_size = 0.3, random_state=29)"
   ]
  },
  {
   "cell_type": "code",
   "execution_count": 13,
   "metadata": {},
   "outputs": [],
   "source": [
    "acc_dict = {}"
   ]
  },
  {
   "cell_type": "markdown",
   "metadata": {},
   "source": [
    "## Decision Tree Classifier"
   ]
  },
  {
   "cell_type": "raw",
   "metadata": {},
   "source": [
    "from sklearn.tree import DecisionTreeClassifier\n",
    "from sklearn.metrics import roc_auc_score\n",
    "\n",
    "param_grid = {,  \n",
    "              }\n",
    "\n",
    "tree = GridSearchCV(DecisionTreeClassifier(), param_grid)\n",
    "\n",
    "tree.fit(X_train, y_train)\n",
    "tree_preds = tree.predict_proba(X_test)[:, 1]\n",
    "tree_performance = roc_auc_score(y_test, tree_preds)\n",
    "\n",
    "print (f'DecisionTree: Area under the ROC curve = {tree_performance}')\n"
   ]
  },
  {
   "cell_type": "raw",
   "metadata": {},
   "source": [
    "tree.best_params_"
   ]
  },
  {
   "cell_type": "raw",
   "metadata": {},
   "source": [
    "criterion=’gini’, splitter=’best’, max_depth=None, min_samples_split=2, min_samples_leaf=1, min_weight_fraction_leaf=0.0, max_features=None, random_state=None, max_leaf_nodes=None, min_impurity_decrease=0.0, min_impurity_split=None, class_weight=None, presort=False"
   ]
  },
  {
   "cell_type": "code",
   "execution_count": 14,
   "metadata": {},
   "outputs": [
    {
     "data": {
      "text/plain": [
       "(19678, 10)"
      ]
     },
     "execution_count": 14,
     "metadata": {},
     "output_type": "execute_result"
    }
   ],
   "source": [
    "X.shape"
   ]
  },
  {
   "cell_type": "code",
   "execution_count": 15,
   "metadata": {},
   "outputs": [
    {
     "name": "stderr",
     "output_type": "stream",
     "text": [
      "/home/inrx/anaconda3/lib/python3.7/site-packages/sklearn/model_selection/_split.py:1978: FutureWarning: The default value of cv will change from 3 to 5 in version 0.22. Specify it explicitly to silence this warning.\n",
      "  warnings.warn(CV_WARNING, FutureWarning)\n"
     ]
    },
    {
     "name": "stdout",
     "output_type": "stream",
     "text": [
      "DecisionTree: Area under the ROC curve = 0.8600734998795083\n"
     ]
    }
   ],
   "source": [
    "from sklearn.tree import DecisionTreeClassifier\n",
    "from sklearn.metrics import roc_auc_score\n",
    "\n",
    "param_grid = {'max_depth': np.arange(2,12), \n",
    "              'min_samples_split': np.arange(2,10), \n",
    "              'min_samples_leaf': np.arange(1,10),  \n",
    "              }\n",
    "\n",
    "tree = GridSearchCV(DecisionTreeClassifier(), param_grid)\n",
    "\n",
    "tree.fit(X_train, y_train)\n",
    "tree_preds = tree.predict_proba(X_test)[:, 1]\n",
    "tree_performance = roc_auc_score(y_test, tree_preds)\n",
    "\n",
    "print (f'DecisionTree: Area under the ROC curve = {tree_performance}')\n"
   ]
  },
  {
   "cell_type": "code",
   "execution_count": 16,
   "metadata": {},
   "outputs": [
    {
     "data": {
      "text/plain": [
       "{'max_depth': 6, 'min_samples_leaf': 8, 'min_samples_split': 2}"
      ]
     },
     "execution_count": 16,
     "metadata": {},
     "output_type": "execute_result"
    }
   ],
   "source": [
    "tree.best_params_"
   ]
  },
  {
   "cell_type": "code",
   "execution_count": 17,
   "metadata": {},
   "outputs": [
    {
     "data": {
      "text/plain": [
       "0.7933062291273414"
      ]
     },
     "execution_count": 17,
     "metadata": {},
     "output_type": "execute_result"
    }
   ],
   "source": [
    "tree.best_score_"
   ]
  },
  {
   "cell_type": "code",
   "execution_count": 18,
   "metadata": {
    "scrolled": false
   },
   "outputs": [
    {
     "name": "stdout",
     "output_type": "stream",
     "text": [
      "Decision Tree Test Accuracy 79.73%\n"
     ]
    }
   ],
   "source": [
    "from sklearn.tree import DecisionTreeClassifier\n",
    "dtc = DecisionTreeClassifier(max_depth=6, min_samples_leaf=8, min_samples_split=2)\n",
    "dtc.fit(X_train, y_train)\n",
    "\n",
    "acc_dtc = dtc.score(X_test, y_test)*100\n",
    "print(f\"Decision Tree Test Accuracy {round(acc_dtc, 2)}%\")\n",
    "\n",
    "#acc_dict['Decision Tree Classifier'] = round(acc_dtc,2)"
   ]
  },
  {
   "cell_type": "markdown",
   "metadata": {},
   "source": [
    "### Test for overfitting"
   ]
  },
  {
   "cell_type": "code",
   "execution_count": 19,
   "metadata": {},
   "outputs": [
    {
     "name": "stdout",
     "output_type": "stream",
     "text": [
      "80.23086975461014\n",
      "79.72657585807237\n"
     ]
    }
   ],
   "source": [
    "prediction = dtc.predict(X_test)\n",
    "\n",
    "print (dtc.score(X_train, y_train)*100)\n",
    "\n",
    "print (roc_auc_score(y_test, prediction)*100)"
   ]
  },
  {
   "cell_type": "code",
   "execution_count": 20,
   "metadata": {},
   "outputs": [
    {
     "data": {
      "image/png": "[encoded data removed]",
      "text/plain": [
       "<Figure size 432x288 with 1 Axes>"
      ]
     },
     "metadata": {
      "needs_background": "light"
     },
     "output_type": "display_data"
    }
   ],
   "source": [
    "x_plot = list(range(len(X_test)))\n",
    "prediction = dtc.predict(X_test)\n",
    "plt.scatter(x_plot,prediction-y_test, label = 'prediction', alpha = 1)\n",
    "plt.show()"
   ]
  },
  {
   "cell_type": "code",
   "execution_count": 21,
   "metadata": {},
   "outputs": [
    {
     "data": {
      "text/html": [
       "<div>\n",
       "<style scoped>\n",
       "    .dataframe tbody tr th:only-of-type {\n",
       "        vertical-align: middle;\n",
       "    }\n",
       "\n",
       "    .dataframe tbody tr th {\n",
       "        vertical-align: top;\n",
       "    }\n",
       "\n",
       "    .dataframe thead th {\n",
       "        text-align: right;\n",
       "    }\n",
       "</style>\n",
       "<table border=\"1\" class=\"dataframe\">\n",
       "  <thead>\n",
       "    <tr style=\"text-align: right;\">\n",
       "      <th></th>\n",
       "      <th>Predicted Not StwDev</th>\n",
       "      <th>Predicted StwDev</th>\n",
       "    </tr>\n",
       "  </thead>\n",
       "  <tbody>\n",
       "    <tr>\n",
       "      <th>True Not StwDev</th>\n",
       "      <td>2394</td>\n",
       "      <td>556</td>\n",
       "    </tr>\n",
       "    <tr>\n",
       "      <th>True StwDev</th>\n",
       "      <td>641</td>\n",
       "      <td>2313</td>\n",
       "    </tr>\n",
       "  </tbody>\n",
       "</table>\n",
       "</div>"
      ],
      "text/plain": [
       "                 Predicted Not StwDev  Predicted StwDev\n",
       "True Not StwDev                  2394               556\n",
       "True StwDev                       641              2313"
      ]
     },
     "execution_count": 21,
     "metadata": {},
     "output_type": "execute_result"
    }
   ],
   "source": [
    "from sklearn.metrics import confusion_matrix\n",
    "\n",
    "cm = pd.DataFrame(\n",
    "    confusion_matrix(y_test, prediction),\n",
    "    columns=['Predicted Not StwDev', 'Predicted StwDev'],\n",
    "    index=['True Not StwDev', 'True StwDev'])\n",
    "\n",
    "cm"
   ]
  },
  {
   "cell_type": "code",
   "execution_count": null,
   "metadata": {},
   "outputs": [],
   "source": []
  },
  {
   "cell_type": "code",
   "execution_count": 22,
   "metadata": {},
   "outputs": [],
   "source": [
    "cm1 = round(cm/19678*100,2)"
   ]
  },
  {
   "cell_type": "code",
   "execution_count": 23,
   "metadata": {},
   "outputs": [
    {
     "data": {
      "text/plain": [
       "<matplotlib.axes._subplots.AxesSubplot at 0x7fe879361978>"
      ]
     },
     "execution_count": 23,
     "metadata": {},
     "output_type": "execute_result"
    },
    {
     "data": {
      "image/png": "[encoded data removed]",
      "text/plain": [
       "<Figure size 432x288 with 2 Axes>"
      ]
     },
     "metadata": {
      "needs_background": "light"
     },
     "output_type": "display_data"
    }
   ],
   "source": [
    "sns.heatmap(cm1,cmap=\"YlGnBu\", annot=True, fmt='g')"
   ]
  },
  {
   "cell_type": "code",
   "execution_count": 24,
   "metadata": {},
   "outputs": [],
   "source": [
    "from sklearn.tree.export import export_text\n",
    "r = export_text(dtc, feature_names=list(X.columns))"
   ]
  },
  {
   "cell_type": "code",
   "execution_count": 25,
   "metadata": {
    "scrolled": false
   },
   "outputs": [
    {
     "name": "stdout",
     "output_type": "stream",
     "text": [
      "|--- months_programming <= 7.50\n",
      "|   |--- months_programming <= 3.50\n",
      "|   |   |--- employment <= 0.50\n",
      "|   |   |   |--- inperson_events <= 0.50\n",
      "|   |   |   |   |--- podcasts <= 1.50\n",
      "|   |   |   |   |   |--- online_resources <= 4.50\n",
      "|   |   |   |   |   |   |--- class: 0\n",
      "|   |   |   |   |   |--- online_resources >  4.50\n",
      "|   |   |   |   |   |   |--- class: 0\n",
      "|   |   |   |   |--- podcasts >  1.50\n",
      "|   |   |   |   |   |--- class: 0\n",
      "|   |   |   |--- inperson_events >  0.50\n",
      "|   |   |   |   |--- employment <= -0.50\n",
      "|   |   |   |   |   |--- hours_learning_week <= 9.00\n",
      "|   |   |   |   |   |   |--- class: 0\n",
      "|   |   |   |   |   |--- hours_learning_week >  9.00\n",
      "|   |   |   |   |   |   |--- class: 0\n",
      "|   |   |   |   |--- employment >  -0.50\n",
      "|   |   |   |   |   |--- age <= 18.50\n",
      "|   |   |   |   |   |   |--- class: 0\n",
      "|   |   |   |   |   |--- age >  18.50\n",
      "|   |   |   |   |   |   |--- class: 0\n",
      "|   |   |--- employment >  0.50\n",
      "|   |   |   |--- attended_bootcamp <= 0.50\n",
      "|   |   |   |   |--- online_resources <= 3.50\n",
      "|   |   |   |   |   |--- age <= 33.50\n",
      "|   |   |   |   |   |   |--- class: 0\n",
      "|   |   |   |   |   |--- age >  33.50\n",
      "|   |   |   |   |   |   |--- class: 0\n",
      "|   |   |   |   |--- online_resources >  3.50\n",
      "|   |   |   |   |   |--- months_programming <= 0.50\n",
      "|   |   |   |   |   |   |--- class: 0\n",
      "|   |   |   |   |   |--- months_programming >  0.50\n",
      "|   |   |   |   |   |   |--- class: 0\n",
      "|   |   |   |--- attended_bootcamp >  0.50\n",
      "|   |   |   |   |--- hours_learning_week <= 11.00\n",
      "|   |   |   |   |   |--- online_resources <= 3.50\n",
      "|   |   |   |   |   |   |--- class: 1\n",
      "|   |   |   |   |   |--- online_resources >  3.50\n",
      "|   |   |   |   |   |   |--- class: 1\n",
      "|   |   |   |   |--- hours_learning_week >  11.00\n",
      "|   |   |   |   |   |--- months_programming <= 2.50\n",
      "|   |   |   |   |   |   |--- class: 0\n",
      "|   |   |   |   |   |--- months_programming >  2.50\n",
      "|   |   |   |   |   |   |--- class: 1\n",
      "|   |--- months_programming >  3.50\n",
      "|   |   |--- employment <= 0.50\n",
      "|   |   |   |--- online_resources <= 2.50\n",
      "|   |   |   |   |--- hours_learning_week <= 2.50\n",
      "|   |   |   |   |   |--- hours_learning_week <= 0.50\n",
      "|   |   |   |   |   |   |--- class: 0\n",
      "|   |   |   |   |   |--- hours_learning_week >  0.50\n",
      "|   |   |   |   |   |   |--- class: 1\n",
      "|   |   |   |   |--- hours_learning_week >  2.50\n",
      "|   |   |   |   |   |--- hours_learning_week <= 18.00\n",
      "|   |   |   |   |   |   |--- class: 0\n",
      "|   |   |   |   |   |--- hours_learning_week >  18.00\n",
      "|   |   |   |   |   |   |--- class: 0\n",
      "|   |   |   |--- online_resources >  2.50\n",
      "|   |   |   |   |--- youtube <= 6.50\n",
      "|   |   |   |   |   |--- age <= 31.50\n",
      "|   |   |   |   |   |   |--- class: 0\n",
      "|   |   |   |   |   |--- age >  31.50\n",
      "|   |   |   |   |   |   |--- class: 0\n",
      "|   |   |   |   |--- youtube >  6.50\n",
      "|   |   |   |   |   |--- class: 0\n",
      "|   |   |--- employment >  0.50\n",
      "|   |   |   |--- age <= 24.50\n",
      "|   |   |   |   |--- months_programming <= 4.50\n",
      "|   |   |   |   |   |--- coding_expenses <= 0.02\n",
      "|   |   |   |   |   |   |--- class: 1\n",
      "|   |   |   |   |   |--- coding_expenses >  0.02\n",
      "|   |   |   |   |   |   |--- class: 0\n",
      "|   |   |   |   |--- months_programming >  4.50\n",
      "|   |   |   |   |   |--- inperson_events <= 1.50\n",
      "|   |   |   |   |   |   |--- class: 1\n",
      "|   |   |   |   |   |--- inperson_events >  1.50\n",
      "|   |   |   |   |   |   |--- class: 1\n",
      "|   |   |   |--- age >  24.50\n",
      "|   |   |   |   |--- attended_bootcamp <= 0.50\n",
      "|   |   |   |   |   |--- inperson_events <= 1.50\n",
      "|   |   |   |   |   |   |--- class: 0\n",
      "|   |   |   |   |   |--- inperson_events >  1.50\n",
      "|   |   |   |   |   |   |--- class: 0\n",
      "|   |   |   |   |--- attended_bootcamp >  0.50\n",
      "|   |   |   |   |   |--- coding_expenses <= 0.74\n",
      "|   |   |   |   |   |   |--- class: 1\n",
      "|   |   |   |   |   |--- coding_expenses >  0.74\n",
      "|   |   |   |   |   |   |--- class: 1\n",
      "|--- months_programming >  7.50\n",
      "|   |--- employment <= 0.50\n",
      "|   |   |--- inperson_events <= 1.50\n",
      "|   |   |   |--- age <= 20.50\n",
      "|   |   |   |   |--- employment <= -0.50\n",
      "|   |   |   |   |   |--- podcasts <= 0.50\n",
      "|   |   |   |   |   |   |--- class: 0\n",
      "|   |   |   |   |   |--- podcasts >  0.50\n",
      "|   |   |   |   |   |   |--- class: 0\n",
      "|   |   |   |   |--- employment >  -0.50\n",
      "|   |   |   |   |   |--- months_programming <= 23.50\n",
      "|   |   |   |   |   |   |--- class: 0\n",
      "|   |   |   |   |   |--- months_programming >  23.50\n",
      "|   |   |   |   |   |   |--- class: 0\n",
      "|   |   |   |--- age >  20.50\n",
      "|   |   |   |   |--- months_programming <= 41.00\n",
      "|   |   |   |   |   |--- age <= 29.50\n",
      "|   |   |   |   |   |   |--- class: 0\n",
      "|   |   |   |   |   |--- age >  29.50\n",
      "|   |   |   |   |   |   |--- class: 0\n",
      "|   |   |   |   |--- months_programming >  41.00\n",
      "|   |   |   |   |   |--- age <= 26.50\n",
      "|   |   |   |   |   |   |--- class: 0\n",
      "|   |   |   |   |   |--- age >  26.50\n",
      "|   |   |   |   |   |   |--- class: 1\n",
      "|   |   |--- inperson_events >  1.50\n",
      "|   |   |   |--- hours_learning_week <= 13.00\n",
      "|   |   |   |   |--- employment <= -0.50\n",
      "|   |   |   |   |   |--- age <= 22.50\n",
      "|   |   |   |   |   |   |--- class: 0\n",
      "|   |   |   |   |   |--- age >  22.50\n",
      "|   |   |   |   |   |   |--- class: 0\n",
      "|   |   |   |   |--- employment >  -0.50\n",
      "|   |   |   |   |   |--- months_programming <= 12.50\n",
      "|   |   |   |   |   |   |--- class: 0\n",
      "|   |   |   |   |   |--- months_programming >  12.50\n",
      "|   |   |   |   |   |   |--- class: 1\n",
      "|   |   |   |--- hours_learning_week >  13.00\n",
      "|   |   |   |   |--- employment <= -0.50\n",
      "|   |   |   |   |   |--- inperson_events <= 2.50\n",
      "|   |   |   |   |   |   |--- class: 0\n",
      "|   |   |   |   |   |--- inperson_events >  2.50\n",
      "|   |   |   |   |   |   |--- class: 0\n",
      "|   |   |   |   |--- employment >  -0.50\n",
      "|   |   |   |   |   |--- age <= 27.50\n",
      "|   |   |   |   |   |   |--- class: 0\n",
      "|   |   |   |   |   |--- age >  27.50\n",
      "|   |   |   |   |   |   |--- class: 0\n",
      "|   |--- employment >  0.50\n",
      "|   |   |--- months_programming <= 12.50\n",
      "|   |   |   |--- age <= 27.50\n",
      "|   |   |   |   |--- age <= 18.50\n",
      "|   |   |   |   |   |--- hours_learning_week <= 2.50\n",
      "|   |   |   |   |   |   |--- class: 0\n",
      "|   |   |   |   |   |--- hours_learning_week >  2.50\n",
      "|   |   |   |   |   |   |--- class: 0\n",
      "|   |   |   |   |--- age >  18.50\n",
      "|   |   |   |   |   |--- age <= 24.50\n",
      "|   |   |   |   |   |   |--- class: 1\n",
      "|   |   |   |   |   |--- age >  24.50\n",
      "|   |   |   |   |   |   |--- class: 1\n",
      "|   |   |   |--- age >  27.50\n",
      "|   |   |   |   |--- online_resources <= 7.50\n",
      "|   |   |   |   |   |--- inperson_events <= 1.50\n",
      "|   |   |   |   |   |   |--- class: 0\n",
      "|   |   |   |   |   |--- inperson_events >  1.50\n",
      "|   |   |   |   |   |   |--- class: 1\n",
      "|   |   |   |   |--- online_resources >  7.50\n",
      "|   |   |   |   |   |--- podcasts <= 2.50\n",
      "|   |   |   |   |   |   |--- class: 1\n",
      "|   |   |   |   |   |--- podcasts >  2.50\n",
      "|   |   |   |   |   |   |--- class: 1\n",
      "|   |   |--- months_programming >  12.50\n",
      "|   |   |   |--- months_programming <= 24.50\n",
      "|   |   |   |   |--- age <= 33.50\n",
      "|   |   |   |   |   |--- age <= 20.50\n",
      "|   |   |   |   |   |   |--- class: 1\n",
      "|   |   |   |   |   |--- age >  20.50\n",
      "|   |   |   |   |   |   |--- class: 1\n",
      "|   |   |   |   |--- age >  33.50\n",
      "|   |   |   |   |   |--- attended_bootcamp <= 0.50\n",
      "|   |   |   |   |   |   |--- class: 1\n",
      "|   |   |   |   |   |--- attended_bootcamp >  0.50\n",
      "|   |   |   |   |   |   |--- class: 1\n",
      "|   |   |   |--- months_programming >  24.50\n",
      "|   |   |   |   |--- months_programming <= 48.50\n",
      "|   |   |   |   |   |--- age <= 28.50\n",
      "|   |   |   |   |   |   |--- class: 1\n",
      "|   |   |   |   |   |--- age >  28.50\n",
      "|   |   |   |   |   |   |--- class: 1\n",
      "|   |   |   |   |--- months_programming >  48.50\n",
      "|   |   |   |   |   |--- hours_learning_week <= 11.00\n",
      "|   |   |   |   |   |   |--- class: 1\n",
      "|   |   |   |   |   |--- hours_learning_week >  11.00\n",
      "|   |   |   |   |   |   |--- class: 1\n",
      "\n"
     ]
    }
   ],
   "source": [
    "print (r)"
   ]
  },
  {
   "cell_type": "raw",
   "metadata": {},
   "source": [
    "import graphviz \n",
    "from sklearn import tree\n",
    "dot_data = tree.export_graphviz(dtc, out_file=None, feature_names=list(X1.columns), class_names=True, filled=True,\n",
    "                               rotate=True) \n",
    "graph = graphviz.Source(dot_data) \n",
    "graph.render(\"sftdev\") "
   ]
  },
  {
   "cell_type": "raw",
   "metadata": {},
   "source": [
    "data.linear_model "
   ]
  },
  {
   "cell_type": "code",
   "execution_count": 27,
   "metadata": {},
   "outputs": [
    {
     "name": "stdout",
     "output_type": "stream",
     "text": [
      "Precision: 81.15\n",
      "Recall: 78.88\n"
     ]
    }
   ],
   "source": [
    "TP = cm['Predicted Not StwDev']['True Not StwDev']\n",
    "FP = cm['Predicted StwDev']['True Not StwDev']\n",
    "FN = cm['Predicted Not StwDev']['True StwDev']\n",
    "\n",
    "print (f'Precision: {round(TP/(TP+FP)*100,2)}')\n",
    "print (f'Recall: {round(TP/(TP+FN)*100,2)}')\n"
   ]
  },
  {
   "cell_type": "code",
   "execution_count": 28,
   "metadata": {},
   "outputs": [
    {
     "name": "stdout",
     "output_type": "stream",
     "text": [
      "Stored 'data1' (DataFrame)\n"
     ]
    }
   ],
   "source": [
    "data1 = data\n",
    "\n",
    "%store data1"
   ]
  }
 ],
 "metadata": {
  "kernelspec": {
   "display_name": "Python 3",
   "language": "python",
   "name": "python3"
  },
  "language_info": {
   "codemirror_mode": {
    "name": "ipython",
    "version": 3
   },
   "file_extension": ".py",
   "mimetype": "text/x-python",
   "name": "python",
   "nbconvert_exporter": "python",
   "pygments_lexer": "ipython3",
   "version": "3.7.3"
  }
 },
 "nbformat": 4,
 "nbformat_minor": 2
}
